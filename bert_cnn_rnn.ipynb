{
 "cells": [
  {
   "cell_type": "markdown",
   "metadata": {
    "id": "n7BzBd-N9mS1"
   },
   "source": [
    "# Project: Text Classification with Various Neural Networks\n",
    "\n",
    "**Description:** This project covers various neural network architectures \n",
    "(CNN, RNN, BERT, BERT w/ CNN/RNN)\n"
   ]
  },
  {
   "cell_type": "markdown",
   "metadata": {
    "id": "so-yur1S9mS4"
   },
   "source": [
    "## 1. Setup\n",
    "\n",
    "### 1.1. Libraries and Helper Functions "
   ]
  },
  {
   "cell_type": "code",
   "execution_count": 2,
   "metadata": {
    "colab": {
     "base_uri": "https://localhost:8080/"
    },
    "id": "8uQnMctL9mS5",
    "outputId": "8e21a64d-d6bc-4925-d608-8e37d28678af"
   },
   "outputs": [
    {
     "name": "stdout",
     "output_type": "stream",
     "text": [
      "\u001b[K     |████████████████████████████████| 24.2 MB 1.8 MB/s \n",
      "\u001b[K     |████████████████████████████████| 4.9 MB 4.9 MB/s \n",
      "\u001b[K     |████████████████████████████████| 497.9 MB 3.3 kB/s \n",
      "\u001b[K     |████████████████████████████████| 1.4 MB 45.7 MB/s \n",
      "\u001b[K     |████████████████████████████████| 5.8 MB 56.9 MB/s \n",
      "\u001b[K     |████████████████████████████████| 462 kB 52.9 MB/s \n",
      "\u001b[K     |████████████████████████████████| 5.5 MB 5.3 MB/s \n",
      "\u001b[K     |████████████████████████████████| 7.6 MB 56.3 MB/s \n",
      "\u001b[K     |████████████████████████████████| 182 kB 46.9 MB/s \n",
      "\u001b[?25h"
     ]
    }
   ],
   "source": [
    "#@title Installs\n",
    "\n",
    "!pip install pydot --quiet\n",
    "!pip install gensim==3.8.3 --quiet\n",
    "!pip install tensorflow-datasets --quiet\n",
    "!pip install -U tensorflow-text==2.8.2 --quiet\n",
    "!pip install transformers --quiet"
   ]
  },
  {
   "cell_type": "code",
   "execution_count": 1,
   "metadata": {
    "id": "Q8b9aykE9mS8"
   },
   "outputs": [],
   "source": [
    "#@title Imports\n",
    "\n",
    "import pandas as pd\n",
    "import numpy as np\n",
    "import tensorflow as tf\n",
    "from tensorflow import keras\n",
    "\n",
    "from tensorflow.keras.layers import Embedding, Input, Dense, Lambda\n",
    "from tensorflow.keras.models import Model\n",
    "import tensorflow.keras.backend as K\n",
    "import tensorflow_datasets as tfds\n",
    "import tensorflow_text as tf_text\n",
    "\n",
    "from transformers import BertTokenizer, TFBertModel\n",
    "\n",
    "\n",
    "import sklearn as sk\n",
    "import os\n",
    "import nltk\n",
    "from nltk.data import find\n",
    "\n",
    "import matplotlib.pyplot as plt\n",
    "\n",
    "import re\n",
    "\n",
    "#This continues to work with gensim 3.8.3.  It doesn't yet work with 4.x.  \n",
    "#Make sure your pip install command specifies gensim==3.8.3\n",
    "import gensim\n"
   ]
  },
  {
   "cell_type": "code",
   "execution_count": 2,
   "metadata": {
    "id": "YKWj6pPM9mS-"
   },
   "outputs": [],
   "source": [
    "#@title Plotting Function\n",
    "\n",
    "# 4-window plot. Small modification from matplotlib examples.\n",
    "\n",
    "def make_plot(axs, \n",
    "              epochs,\n",
    "              history1, \n",
    "              history2, \n",
    "              model_1_name='model 1',\n",
    "              model_2_name='model 2',\n",
    "              \n",
    "             ):\n",
    "    box = dict(facecolor='yellow', pad=5, alpha=0.2)\n",
    "\n",
    "    ax1 = axs[0, 0]\n",
    "    ax1.plot(history1.history['loss'][:epochs])\n",
    "    ax1.plot(history1.history['val_loss'][:epochs])\n",
    "    ax1.set_title('loss - ' + model_1_name)\n",
    "    ax1.set_ylabel('loss', bbox=box)\n",
    "    # ax1.set_ylim(y_lim_loss_lower, y_lim_loss_upper)\n",
    "\n",
    "    ax3 = axs[1, 0]\n",
    "    ax3.set_title('accuracy - ' + model_1_name)\n",
    "    ax3.plot(history1.history['accuracy'][:epochs])\n",
    "    ax3.plot(history1.history['val_accuracy'][:epochs])\n",
    "    ax3.set_ylabel('accuracy', bbox=box)\n",
    "    # ax3.set_ylim(y_lim_accuracy_lower, y_lim_accuracy_upper)\n",
    "\n",
    "\n",
    "    ax2 = axs[0, 1]\n",
    "    ax2.set_title('loss - ' + model_2_name)\n",
    "    ax2.plot(history2.history['loss'][:epochs])\n",
    "    ax2.plot(history2.history['val_loss'][:epochs])\n",
    "    # ax2.set_ylim(y_lim_loss_lower, y_lim_loss_upper)\n",
    "\n",
    "    ax4 = axs[1, 1]\n",
    "    ax4.set_title('accuracy - ' + model_2_name)\n",
    "\n",
    "    # small adjustment to account for the 2 accuracy measures in the Weighted Averging Model with Attention\n",
    "    if 'classification_accuracy' in history2.history.keys():\n",
    "        ax4.plot(history2.history['classification_accuracy'][:epochs])\n",
    "    else:\n",
    "        ax4.plot(history2.history['accuracy'][:epochs])\n",
    "    \n",
    "    if 'val_classification_accuracy' in history2.history.keys():\n",
    "        ax4.plot(history2.history['val_classification_accuracy'][:epochs])\n",
    "    else:\n",
    "        ax4.plot(history2.history['val_accuracy'][:epochs])\n",
    "      # ax4.set_ylim(y_lim_accuracy_lower, y_lim_accuracy_upper)"
   ]
  },
  {
   "cell_type": "code",
   "execution_count": 4,
   "metadata": {
    "colab": {
     "base_uri": "https://localhost:8080/"
    },
    "id": "49X1T6an9mS_",
    "outputId": "26f3af10-6be4-4ffc-a36c-0d6b7eab9770"
   },
   "outputs": [
    {
     "name": "stderr",
     "output_type": "stream",
     "text": [
      "[nltk_data] Downloading package word2vec_sample to /root/nltk_data...\n",
      "[nltk_data]   Unzipping models/word2vec_sample.zip.\n"
     ]
    }
   ],
   "source": [
    "#@title NLTK & Word2Vec\n",
    "\n",
    "nltk.download('word2vec_sample')\n",
    "\n",
    "word2vec_sample = str(find('models/word2vec_sample/pruned.word2vec.txt'))\n",
    "\n",
    "model = gensim.models.KeyedVectors.load_word2vec_format(word2vec_sample, binary=False)"
   ]
  },
  {
   "cell_type": "code",
   "execution_count": 5,
   "metadata": {
    "id": "lOTIN3G39mTB"
   },
   "outputs": [],
   "source": [
    "#@title Embedding Matrix Creation\n",
    "\n",
    "EMBEDDING_DIM = len(model['university'])      # we know... it's 300\n",
    "\n",
    "# initialize embedding matrix and word-to-id map:\n",
    "embedding_matrix = np.zeros((len(model.vocab.keys()) + 1, EMBEDDING_DIM))       \n",
    "vocab_dict = {}\n",
    "\n",
    "# build the embedding matrix and the word-to-id map:\n",
    "for i, word in enumerate(model.vocab.keys()):\n",
    "    embedding_vector = model[word]\n",
    "    if embedding_vector is not None:\n",
    "        # words not found in embedding index will be all-zeros.\n",
    "        embedding_matrix[i] = embedding_vector\n",
    "        vocab_dict[word] = i\n",
    "\n",
    "# we can use the last index at the end of the vocab for unknown tokens\n",
    "vocab_dict['[UNK]'] = len(vocab_dict)"
   ]
  },
  {
   "cell_type": "markdown",
   "metadata": {
    "id": "YIL1eUtV9mTC"
   },
   "source": [
    "### 1.2 Data Acquisition"
   ]
  },
  {
   "cell_type": "code",
   "execution_count": 3,
   "metadata": {
    "colab": {
     "base_uri": "https://localhost:8080/"
    },
    "id": "sW9HdwvY64XA",
    "outputId": "3cccb91f-d331-4084-c442-738a9ad4ec68"
   },
   "outputs": [
    {
     "data": {
      "text/plain": [
       "(68221, 2)"
      ]
     },
     "execution_count": 3,
     "metadata": {},
     "output_type": "execute_result"
    }
   ],
   "source": [
    "train = pd.read_csv('train.tsv', sep='\\t')\n",
    "dev = pd.read_csv('dev.tsv', sep='\\t')\n",
    "df = pd.concat([train, dev])\n",
    "df.shape"
   ]
  },
  {
   "cell_type": "code",
   "execution_count": 4,
   "metadata": {
    "id": "XHTnih9T7GFw"
   },
   "outputs": [
    {
     "name": "stderr",
     "output_type": "stream",
     "text": [
      "2022-12-03 11:38:55.128596: I tensorflow/core/platform/cpu_feature_guard.cc:151] This TensorFlow binary is optimized with oneAPI Deep Neural Network Library (oneDNN) to use the following CPU instructions in performance-critical operations:  SSE4.1 SSE4.2\n",
      "To enable them in other operations, rebuild TensorFlow with the appropriate compiler flags.\n"
     ]
    }
   ],
   "source": [
    "train_examples_batch = tf.convert_to_tensor(df['sentence'][:54577])\n",
    "train_labels_batch = tf.convert_to_tensor(df['label'][:54577])\n",
    "test_examples_batch = tf.convert_to_tensor(df['sentence'][54577:])\n",
    "test_labels_batch = tf.convert_to_tensor(df['label'][54577:])"
   ]
  },
  {
   "cell_type": "code",
   "execution_count": 5,
   "metadata": {
    "id": "Zxu9U3qXMKTW"
   },
   "outputs": [],
   "source": [
    "SEQUENCE_LENGTH = 30"
   ]
  },
  {
   "cell_type": "markdown",
   "metadata": {
    "id": "1bHwj4vu9mTD"
   },
   "source": [
    "## 1.3. Data Preparation\n",
    "\n",
    "### 1.3.1. Training/Test Sets for Word2Vec-based Models"
   ]
  },
  {
   "cell_type": "code",
   "execution_count": 11,
   "metadata": {
    "id": "ToVTmC8V9mTD"
   },
   "outputs": [],
   "source": [
    "tokenizer = tf_text.WhitespaceTokenizer()\n",
    "train_tokens = tokenizer.tokenize(train_examples_batch)\n",
    "test_tokens = tokenizer.tokenize(test_examples_batch)"
   ]
  },
  {
   "cell_type": "code",
   "execution_count": 9,
   "metadata": {
    "id": "ytUsu3kmuM3n"
   },
   "outputs": [],
   "source": [
    "def docs_to_vocab_ids(tokenized_texts_list):\n",
    "    \"\"\"\n",
    "    converting a list of strings to a list of lists of word ids\n",
    "    \"\"\"\n",
    "    texts_vocab_ids = []\n",
    "    text_labels = []\n",
    "    valid_example_list = []\n",
    "    for i, token_list in enumerate(tokenized_texts_list):\n",
    "\n",
    "        # Get the vocab id for each token in this doc ([UNK] if not in vocab)\n",
    "        vocab_ids = []\n",
    "        for token in list(token_list.numpy()):\n",
    "            decoded = token.decode('utf-8', errors='ignore')\n",
    "            if decoded in vocab_dict:\n",
    "                vocab_ids.append(vocab_dict[decoded])\n",
    "            else:\n",
    "                vocab_ids.append(vocab_dict['[UNK]'])\n",
    "            \n",
    "        # Truncate text to max length, add padding up to max length\n",
    "        vocab_ids = vocab_ids[:SEQUENCE_LENGTH]\n",
    "        n_padding = (SEQUENCE_LENGTH - len(vocab_ids))\n",
    "        # For simplicity in this model, we'll just pad with unknown tokens\n",
    "        vocab_ids += [vocab_dict['[UNK]']] * n_padding\n",
    "        valid_example_list.append(i)\n",
    "        # Add this example to the list of converted docs\n",
    "        texts_vocab_ids.append(vocab_ids)\n",
    "            \n",
    "        if i % 5000 == 0:\n",
    "            print('Examples processed: ', i)\n",
    "\n",
    "    print('Total examples: ', i)\n",
    "    return (np.array(texts_vocab_ids), valid_example_list)"
   ]
  },
  {
   "cell_type": "code",
   "execution_count": null,
   "metadata": {
    "colab": {
     "base_uri": "https://localhost:8080/"
    },
    "id": "XpUJLBRkCbtE",
    "outputId": "844deb09-8483-49d6-843b-07cd15901d81"
   },
   "outputs": [
    {
     "name": "stdout",
     "output_type": "stream",
     "text": [
      "Examples processed:  0\n",
      "Examples processed:  5000\n",
      "Examples processed:  10000\n",
      "Examples processed:  15000\n",
      "Examples processed:  20000\n",
      "Examples processed:  25000\n",
      "Examples processed:  30000\n",
      "Examples processed:  35000\n",
      "Examples processed:  40000\n",
      "Examples processed:  45000\n",
      "Examples processed:  50000\n",
      "Total examples:  54576\n",
      "Examples processed:  0\n",
      "Examples processed:  5000\n",
      "Examples processed:  10000\n",
      "Total examples:  13643\n"
     ]
    }
   ],
   "source": [
    "train_input_ids, train_valid_example_list = docs_to_vocab_ids(train_tokens)\n",
    "test_input_ids, test_valid_example_list = docs_to_vocab_ids(test_tokens)\n",
    "\n",
    "train_input_labels = np.array(train_labels_batch)\n",
    "test_input_labels = np.array(test_labels_batch)\n"
   ]
  },
  {
   "cell_type": "markdown",
   "metadata": {
    "id": "L5svfigoOgaE"
   },
   "source": [
    "### 1.3.2. Training/Test Sets for BERT-based models"
   ]
  },
  {
   "cell_type": "code",
   "execution_count": 6,
   "metadata": {
    "colab": {
     "base_uri": "https://localhost:8080/",
     "height": 252,
     "referenced_widgets": [
      "5f65f226f00b429eb7db06d01fae397e",
      "c94ed98e45b849e28f12356e749aa8bf",
      "cce6afcd143246e981e7b2bafae67b28",
      "b73bb55879ac43be9502cbcefa5d8966",
      "b14963ce27b3447c930610645a8f0d7c",
      "99cd6d975e05431eb77ba320cd90bff1",
      "2ecba98fe82b44ddafb9817ab03d8a59",
      "a31adeae72b04abea14663a07a8dfcbe",
      "a4c305480f0343fbac144c95b1c40aad",
      "5e5c9a3667624119bf05c32c27419ed4",
      "ec1b6aef1efc454583e1924baf5c2ac7",
      "8d08108cebcd462cab6735f788732763",
      "d3cc0f56d9cd4edb9defa8c9e502e8e7",
      "d5d3fc29bf944f558600e6849a2bb975",
      "bc6a270c6f5742b78faa91c31c6aa7fe",
      "de3461a119ec43bebf99523071e17ce9",
      "84f5bb2a10c444ad8f2e4946362c4c4c",
      "8022ed8a276a49b28b7db0e7cfa08ec8",
      "9ae78e1aa8e244b4a2c47648a9457c63",
      "b3ec31d99d2e49d6bc35bf469d0308e6",
      "4aede27b638f4eb08dc1436a2d02c5b5",
      "62e0e3cdc5d44be0a00f0f3fcd545773",
      "301258e9bd634753871fc66b323f206e",
      "d1106fc8d99f48d89005d7003932d9c0",
      "729c54a826cf48cb9c6250e92573ad77",
      "92d5c5d17bae43d5b7d33905f8522e69",
      "f5f4012a9e4543be9207027362b56652",
      "de32654a13714c7a944eaa31ae845db1",
      "d7b8b4c0dfd1495fa04a61563fece206",
      "5c9fcfe100e448aa8dc1ee1b14d815ca",
      "eb2ae3fbbc5f44ccb14ca7a492ab84a2",
      "fa4f9fe219d64564a8d74a0f4e17174c",
      "ef612f0efc54450d9739bf48be91cc37",
      "37a752480cb74eeb8482fc96028659f6",
      "5b2de1126e3e448ab32dc63b3b974fee",
      "3c3f9ed27ffe4da793abdc3d10672684",
      "a1a3afac1ea74d1aadfe46021dc6b648",
      "0c2d618a2e3b47d38ba90514539e7fc9",
      "565804debc364e54a451e6b0c076b621",
      "b80ff793bd424f10abda7c062f311a72",
      "612a5f9931114cc4a4f5e5f2cd5d0354",
      "2fc2df23676345aa8d3304bd11bb60a8",
      "d1efc5f040364fd28944f619dbef8598",
      "cfb0f30ae5f648618fa07448e9fcc7cf"
     ]
    },
    "id": "LEyBUFlT53zk",
    "outputId": "bd47df37-42cb-48fe-a1cb-522313f2753a"
   },
   "outputs": [
    {
     "name": "stderr",
     "output_type": "stream",
     "text": [
      "Some layers from the model checkpoint at bert-base-cased were not used when initializing TFBertModel: ['nsp___cls', 'mlm___cls']\n",
      "- This IS expected if you are initializing TFBertModel from the checkpoint of a model trained on another task or with another architecture (e.g. initializing a BertForSequenceClassification model from a BertForPreTraining model).\n",
      "- This IS NOT expected if you are initializing TFBertModel from the checkpoint of a model that you expect to be exactly identical (initializing a BertForSequenceClassification model from a BertForSequenceClassification model).\n",
      "All the layers of TFBertModel were initialized from the model checkpoint at bert-base-cased.\n",
      "If your task is similar to the task the model of the checkpoint was trained on, you can already use TFBertModel for predictions without further training.\n"
     ]
    }
   ],
   "source": [
    "bert_tokenizer = BertTokenizer.from_pretrained('bert-base-cased')\n",
    "bert_model = TFBertModel.from_pretrained('bert-base-cased')"
   ]
  },
  {
   "cell_type": "code",
   "execution_count": 7,
   "metadata": {
    "id": "qM1qYCxz6z3a"
   },
   "outputs": [],
   "source": [
    "\n",
    "all_train_examples = [x.decode('utf-8') for x in train_examples_batch.numpy()]\n",
    "all_test_examples = [x.decode('utf-8') for x in test_examples_batch.numpy()]\n"
   ]
  },
  {
   "cell_type": "code",
   "execution_count": 8,
   "metadata": {
    "id": "cpSk9zvw532w"
   },
   "outputs": [],
   "source": [
    "#@title BERT Tokenization of training and test data\n",
    "\n",
    "max_length = SEQUENCE_LENGTH\n",
    "\n",
    "\n",
    "x_train = bert_tokenizer(all_train_examples,\n",
    "              max_length=max_length,\n",
    "              truncation=True,\n",
    "              padding='max_length', \n",
    "              return_tensors='tf')\n",
    "y_train = train_labels_batch\n",
    "\n",
    "x_test = bert_tokenizer(all_test_examples,\n",
    "              max_length=max_length,\n",
    "              truncation=True,\n",
    "              padding='max_length', \n",
    "              return_tensors='tf')\n",
    "y_test = test_labels_batch\n",
    "\n",
    "def output_ids(x_data, y_data):\n",
    "\n",
    "    x_input_ids = []\n",
    "    y_labels = []\n",
    "\n",
    "    for ((input_ids, masks), label) in zip(zip(x_data['input_ids'], x_data['attention_mask']), y_data):\n",
    "        x_input_ids.append(input_ids)\n",
    "        y_labels.append(label)\n",
    "\n",
    "    return np.array(x_input_ids), np.array(y_labels) \n"
   ]
  },
  {
   "cell_type": "code",
   "execution_count": 21,
   "metadata": {
    "id": "x6DHGOdP53_v"
   },
   "outputs": [],
   "source": [
    "bert_train_input_ids, bert_train_labels = output_ids(x_train, y_train)\n",
    "bert_test_input_ids, bert_test_labels = output_ids(x_test, y_test)"
   ]
  },
  {
   "cell_type": "code",
   "execution_count": null,
   "metadata": {
    "colab": {
     "base_uri": "https://localhost:8080/"
    },
    "id": "x6EAE6cjA9jM",
    "outputId": "c3c25b25-f8e5-4eaf-927d-3bf8f19e6e74"
   },
   "outputs": [
    {
     "name": "stdout",
     "output_type": "stream",
     "text": [
      "The ratio of positive example is 0.56 which is a balanced dataset.\n",
      "The ratio of positive example for test set is 0.55.\n"
     ]
    }
   ],
   "source": [
    "print(f'The ratio of positive example is {sum(train_input_labels)/len(train_input_labels):.2f} which is a balanced dataset.')\n",
    "print(f'The ratio of positive example for test set is {sum(test_input_labels)/len(test_input_labels):.2f}.')"
   ]
  },
  {
   "cell_type": "markdown",
   "metadata": {
    "id": "vzbPHBf3GP2O"
   },
   "source": [
    "## 2. Experiments"
   ]
  },
  {
   "cell_type": "markdown",
   "metadata": {
    "id": "JY6X0wL3BQKD"
   },
   "source": [
    "### 2.1 Baseline 1 - Deep Averaging Network"
   ]
  },
  {
   "cell_type": "code",
   "execution_count": null,
   "metadata": {
    "id": "vk-4mCgyBO9S"
   },
   "outputs": [],
   "source": [
    "def create_dan_model(retrain_embeddings=False, \n",
    "                     max_sequence_length=SEQUENCE_LENGTH,\n",
    "                     hidden_dim=100,\n",
    "                     dropout=0.3,\n",
    "                     embedding_initializer='word2vec', \n",
    "                     learning_rate=0.001):\n",
    "    \"\"\"\n",
    "    Construct the DAN model including the compilation and return it. Parametrize it using the arguments.\n",
    "    :param retrain_embeddings: boolean, indicating whether  the word embeddings are trainable\n",
    "    :param hidden_dim: dimension of the hidden layer\n",
    "    :param dropout: dropout applied to the hidden layer\n",
    "\n",
    "    :returns: the compiled model\n",
    "    \"\"\"\n",
    "\n",
    "    if embedding_initializer == 'word2vec':\n",
    "        embeddings_initializer=tf.keras.initializers.Constant(embedding_matrix)\n",
    "    else:\n",
    "        embeddings_initializer='uniform'\n",
    "\n",
    "  # start by creating the dan_embedding_layer. Use the embeddings_initializer. variable defined above.\n",
    "    dan_embedding_layer = Embedding(embedding_matrix.shape[0],\n",
    "                                  embedding_matrix.shape[1],\n",
    "                                  embeddings_initializer = embeddings_initializer,\n",
    "                                  input_length = max_sequence_length,\n",
    "                                  trainable = retrain_embeddings)\n",
    "    dan_input_layer = tf.keras.layers.Input(shape=(max_sequence_length,), dtype='int64')\n",
    "    dan_embeddings = dan_embedding_layer(dan_input_layer)\n",
    "    dan_avg_embeddings = tf.keras.layers.Lambda(lambda x: K.mean(x, axis=1), name='averaging')(dan_embeddings)\n",
    "    last_hidden_output = dan_avg_embeddings\n",
    "\n",
    "    if type(hidden_dim) is not list:\n",
    "        hidden_dim = [hidden_dim]\n",
    "\n",
    "    for i, h_dim in enumerate(hidden_dim):\n",
    "        last_hidden_output = tf.keras.layers.Dense(h_dim, activation='relu', name='dan_hidden_%d' % i)(last_hidden_output)\n",
    "        last_hidden_output = tf.keras.layers.Dropout(dropout)(last_hidden_output)\n",
    "  \n",
    "    dan_classification = tf.keras.layers.Dense(1, activation='sigmoid', name='dan_classification')(last_hidden_output)\n",
    "\n",
    "    dan_model = tf.keras.models.Model(inputs=dan_input_layer, outputs=[dan_classification])\n",
    "\n",
    "    dan_model.compile(loss='binary_crossentropy',\n",
    "                    optimizer=tf.keras.optimizers.Adam(learning_rate=learning_rate,\n",
    "                                                       beta_1=0.9,\n",
    "                                                       beta_2=0.999,\n",
    "                                                       epsilon=1e-07,\n",
    "                                                       amsgrad=False,\n",
    "                                                       name='Adam'),\n",
    "                    metrics='accuracy')\n",
    "\n",
    "\n",
    "    return dan_model"
   ]
  },
  {
   "cell_type": "code",
   "execution_count": null,
   "metadata": {
    "id": "ZX2hWslCflw1"
   },
   "outputs": [],
   "source": [
    "sorted_train_input_data = [(x, y) for (x, y) in zip(list(train_input_ids), list(train_input_labels))]\n",
    "sorted_train_input_data.sort(key = lambda x: x[1])\n",
    "sorted_training_input_ids = np.array([x[0] for x in sorted_train_input_data])\n",
    "sorted_training_labels = np.array([x[1] for x in sorted_train_input_data])"
   ]
  },
  {
   "cell_type": "code",
   "execution_count": null,
   "metadata": {
    "colab": {
     "base_uri": "https://localhost:8080/"
    },
    "id": "fEsrjV2QkCo_",
    "outputId": "e7b3d00c-941a-4c5c-8e6e-bd5a482b83cc"
   },
   "outputs": [
    {
     "name": "stdout",
     "output_type": "stream",
     "text": [
      "Epoch 1/20\n",
      "1706/1706 [==============================] - 9s 4ms/step - loss: 0.5134 - accuracy: 0.7490 - val_loss: 0.4354 - val_accuracy: 0.8041\n",
      "Epoch 2/20\n",
      "1706/1706 [==============================] - 6s 4ms/step - loss: 0.4227 - accuracy: 0.8017 - val_loss: 0.4101 - val_accuracy: 0.8064\n",
      "Epoch 3/20\n",
      "1706/1706 [==============================] - 5s 3ms/step - loss: 0.4048 - accuracy: 0.8076 - val_loss: 0.3997 - val_accuracy: 0.8122\n",
      "Epoch 4/20\n",
      "1706/1706 [==============================] - 5s 3ms/step - loss: 0.3959 - accuracy: 0.8124 - val_loss: 0.3940 - val_accuracy: 0.8138\n",
      "Epoch 5/20\n",
      "1706/1706 [==============================] - 5s 3ms/step - loss: 0.3900 - accuracy: 0.8145 - val_loss: 0.3894 - val_accuracy: 0.8150\n",
      "Epoch 6/20\n",
      "1706/1706 [==============================] - 7s 4ms/step - loss: 0.3854 - accuracy: 0.8176 - val_loss: 0.3878 - val_accuracy: 0.8183\n",
      "Epoch 7/20\n",
      "1706/1706 [==============================] - 6s 4ms/step - loss: 0.3816 - accuracy: 0.8199 - val_loss: 0.3859 - val_accuracy: 0.8179\n",
      "Epoch 8/20\n",
      "1706/1706 [==============================] - 6s 4ms/step - loss: 0.3773 - accuracy: 0.8223 - val_loss: 0.3831 - val_accuracy: 0.8204\n",
      "Epoch 9/20\n",
      "1706/1706 [==============================] - 6s 4ms/step - loss: 0.3738 - accuracy: 0.8251 - val_loss: 0.3836 - val_accuracy: 0.8216\n",
      "Epoch 10/20\n",
      "1706/1706 [==============================] - 6s 4ms/step - loss: 0.3706 - accuracy: 0.8261 - val_loss: 0.3769 - val_accuracy: 0.8231\n",
      "Epoch 11/20\n",
      "1706/1706 [==============================] - 6s 4ms/step - loss: 0.3671 - accuracy: 0.8278 - val_loss: 0.3747 - val_accuracy: 0.8253\n",
      "Epoch 12/20\n",
      "1706/1706 [==============================] - 6s 4ms/step - loss: 0.3651 - accuracy: 0.8306 - val_loss: 0.3728 - val_accuracy: 0.8294\n",
      "Epoch 13/20\n",
      "1706/1706 [==============================] - 6s 4ms/step - loss: 0.3604 - accuracy: 0.8325 - val_loss: 0.3712 - val_accuracy: 0.8307\n",
      "Epoch 14/20\n",
      "1706/1706 [==============================] - 5s 3ms/step - loss: 0.3586 - accuracy: 0.8349 - val_loss: 0.3711 - val_accuracy: 0.8278\n",
      "Epoch 15/20\n",
      "1706/1706 [==============================] - 5s 3ms/step - loss: 0.3556 - accuracy: 0.8364 - val_loss: 0.3680 - val_accuracy: 0.8307\n",
      "Epoch 16/20\n",
      "1706/1706 [==============================] - 7s 4ms/step - loss: 0.3520 - accuracy: 0.8393 - val_loss: 0.3654 - val_accuracy: 0.8355\n",
      "Epoch 17/20\n",
      "1706/1706 [==============================] - 8s 5ms/step - loss: 0.3480 - accuracy: 0.8410 - val_loss: 0.3654 - val_accuracy: 0.8350\n",
      "Epoch 18/20\n",
      "1706/1706 [==============================] - 5s 3ms/step - loss: 0.3463 - accuracy: 0.8417 - val_loss: 0.3590 - val_accuracy: 0.8375\n",
      "Epoch 19/20\n",
      "1706/1706 [==============================] - 6s 3ms/step - loss: 0.3437 - accuracy: 0.8442 - val_loss: 0.3584 - val_accuracy: 0.8391\n",
      "Epoch 20/20\n",
      "1706/1706 [==============================] - 9s 5ms/step - loss: 0.3399 - accuracy: 0.8462 - val_loss: 0.3562 - val_accuracy: 0.8377\n"
     ]
    }
   ],
   "source": [
    "dan_model_shuffled = create_dan_model()                                                      \n",
    "\n",
    "dan_suffled_history = dan_model_shuffled.fit(sorted_training_input_ids,\n",
    "                                            sorted_training_labels,\n",
    "                                            validation_data=(test_input_ids, test_input_labels),\n",
    "                                            batch_size=32,\n",
    "                                            epochs=20,\n",
    "                                            shuffle=True\n",
    "                                            )                       "
   ]
  },
  {
   "cell_type": "markdown",
   "metadata": {
    "id": "5IYOH-QfSj22"
   },
   "source": [
    "### 2.2 Baseline - Deep Averaging Models"
   ]
  },
  {
   "cell_type": "code",
   "execution_count": null,
   "metadata": {
    "id": "h6Pxm-2xU1aw"
   },
   "outputs": [],
   "source": [
    "dan_model_v1 = create_dan_model(retrain_embeddings=False, max_sequence_length=SEQUENCE_LENGTH, hidden_dim=100, dropout=0.3, embedding_initializer='word2vec', learning_rate=0.001)\n",
    "\n",
    "dan_model_v2 = create_dan_model(retrain_embeddings=True, max_sequence_length=SEQUENCE_LENGTH, hidden_dim=100, dropout=0.3, embedding_initializer='word2vec', learning_rate=0.001)\n",
    "\n",
    "dan_model_v3 = create_dan_model(retrain_embeddings=True, max_sequence_length=SEQUENCE_LENGTH, hidden_dim=100, dropout=0.3, embedding_initializer='uniform', learning_rate=0.001)\n"
   ]
  },
  {
   "cell_type": "code",
   "execution_count": null,
   "metadata": {
    "colab": {
     "base_uri": "https://localhost:8080/"
    },
    "id": "qwlDqMTxVwbQ",
    "outputId": "c2837ec3-a24c-48be-84dc-17a27ab92ca1"
   },
   "outputs": [
    {
     "name": "stdout",
     "output_type": "stream",
     "text": [
      "Epoch 1/20\n",
      "1706/1706 [==============================] - 6s 3ms/step - loss: 0.5130 - accuracy: 0.7483 - val_loss: 0.4348 - val_accuracy: 0.8045\n",
      "Epoch 2/20\n",
      "1706/1706 [==============================] - 6s 4ms/step - loss: 0.4225 - accuracy: 0.8026 - val_loss: 0.4107 - val_accuracy: 0.8057\n",
      "Epoch 3/20\n",
      "1706/1706 [==============================] - 6s 4ms/step - loss: 0.4056 - accuracy: 0.8089 - val_loss: 0.3994 - val_accuracy: 0.8102\n",
      "Epoch 4/20\n",
      "1706/1706 [==============================] - 6s 4ms/step - loss: 0.3971 - accuracy: 0.8121 - val_loss: 0.3953 - val_accuracy: 0.8136\n",
      "Epoch 5/20\n",
      "1706/1706 [==============================] - 6s 4ms/step - loss: 0.3902 - accuracy: 0.8155 - val_loss: 0.3913 - val_accuracy: 0.8140\n",
      "Epoch 6/20\n",
      "1706/1706 [==============================] - 6s 4ms/step - loss: 0.3856 - accuracy: 0.8179 - val_loss: 0.3903 - val_accuracy: 0.8166\n",
      "Epoch 7/20\n",
      "1706/1706 [==============================] - 6s 3ms/step - loss: 0.3821 - accuracy: 0.8194 - val_loss: 0.3851 - val_accuracy: 0.8218\n",
      "Epoch 8/20\n",
      "1706/1706 [==============================] - 5s 3ms/step - loss: 0.3779 - accuracy: 0.8218 - val_loss: 0.3858 - val_accuracy: 0.8179\n",
      "Epoch 9/20\n",
      "1706/1706 [==============================] - 5s 3ms/step - loss: 0.3754 - accuracy: 0.8237 - val_loss: 0.3797 - val_accuracy: 0.8207\n",
      "Epoch 10/20\n",
      "1706/1706 [==============================] - 6s 3ms/step - loss: 0.3720 - accuracy: 0.8255 - val_loss: 0.3833 - val_accuracy: 0.8240\n",
      "Epoch 11/20\n",
      "1706/1706 [==============================] - 6s 4ms/step - loss: 0.3686 - accuracy: 0.8275 - val_loss: 0.3777 - val_accuracy: 0.8253\n",
      "Epoch 12/20\n",
      "1706/1706 [==============================] - 5s 3ms/step - loss: 0.3660 - accuracy: 0.8308 - val_loss: 0.3747 - val_accuracy: 0.8293\n",
      "Epoch 13/20\n",
      "1706/1706 [==============================] - 5s 3ms/step - loss: 0.3625 - accuracy: 0.8322 - val_loss: 0.3723 - val_accuracy: 0.8286\n",
      "Epoch 14/20\n",
      "1706/1706 [==============================] - 5s 3ms/step - loss: 0.3596 - accuracy: 0.8347 - val_loss: 0.3706 - val_accuracy: 0.8278\n",
      "Epoch 15/20\n",
      "1706/1706 [==============================] - 5s 3ms/step - loss: 0.3557 - accuracy: 0.8366 - val_loss: 0.3746 - val_accuracy: 0.8309\n",
      "Epoch 16/20\n",
      "1706/1706 [==============================] - 6s 4ms/step - loss: 0.3525 - accuracy: 0.8385 - val_loss: 0.3651 - val_accuracy: 0.8366\n",
      "Epoch 17/20\n",
      "1706/1706 [==============================] - 6s 4ms/step - loss: 0.3503 - accuracy: 0.8409 - val_loss: 0.3632 - val_accuracy: 0.8336\n",
      "Epoch 18/20\n",
      "1706/1706 [==============================] - 6s 3ms/step - loss: 0.3475 - accuracy: 0.8413 - val_loss: 0.3660 - val_accuracy: 0.8312\n",
      "Epoch 19/20\n",
      "1706/1706 [==============================] - 5s 3ms/step - loss: 0.3441 - accuracy: 0.8425 - val_loss: 0.3593 - val_accuracy: 0.8385\n",
      "Epoch 20/20\n",
      "1706/1706 [==============================] - 6s 4ms/step - loss: 0.3415 - accuracy: 0.8447 - val_loss: 0.3585 - val_accuracy: 0.8358\n"
     ]
    }
   ],
   "source": [
    "dan_history_v1 = dan_model_v1.fit(sorted_training_input_ids, sorted_training_labels, validation_data=(test_input_ids, test_input_labels), batch_size=32, epochs=20)\n"
   ]
  },
  {
   "cell_type": "code",
   "execution_count": null,
   "metadata": {
    "colab": {
     "base_uri": "https://localhost:8080/"
    },
    "id": "H0rMPTAOVw70",
    "outputId": "a10182d7-2528-458e-9ea7-6b50848664a7",
    "scrolled": true
   },
   "outputs": [
    {
     "name": "stdout",
     "output_type": "stream",
     "text": [
      "Epoch 1/20\n",
      "1706/1706 [==============================] - 24s 14ms/step - loss: 0.2114 - accuracy: 0.9038 - val_loss: 0.3286 - val_accuracy: 0.8734\n",
      "Epoch 2/20\n",
      "1706/1706 [==============================] - 18s 11ms/step - loss: 0.1916 - accuracy: 0.9133 - val_loss: 0.3370 - val_accuracy: 0.8740\n",
      "Epoch 3/20\n",
      "1706/1706 [==============================] - 18s 10ms/step - loss: 0.1807 - accuracy: 0.9169 - val_loss: 0.3762 - val_accuracy: 0.8765\n",
      "Epoch 4/20\n",
      "1706/1706 [==============================] - 18s 10ms/step - loss: 0.1667 - accuracy: 0.9225 - val_loss: 0.3701 - val_accuracy: 0.8813\n",
      "Epoch 5/20\n",
      "1706/1706 [==============================] - 18s 10ms/step - loss: 0.1584 - accuracy: 0.9276 - val_loss: 0.3779 - val_accuracy: 0.8824\n",
      "Epoch 6/20\n",
      "1706/1706 [==============================] - 18s 10ms/step - loss: 0.1498 - accuracy: 0.9291 - val_loss: 0.4182 - val_accuracy: 0.8832\n",
      "Epoch 7/20\n",
      "1706/1706 [==============================] - 18s 11ms/step - loss: 0.1434 - accuracy: 0.9347 - val_loss: 0.4179 - val_accuracy: 0.8824\n",
      "Epoch 8/20\n",
      "1706/1706 [==============================] - 18s 11ms/step - loss: 0.1360 - accuracy: 0.9376 - val_loss: 0.4591 - val_accuracy: 0.8843\n",
      "Epoch 9/20\n",
      "1706/1706 [==============================] - 18s 10ms/step - loss: 0.1302 - accuracy: 0.9401 - val_loss: 0.4437 - val_accuracy: 0.8817\n",
      "Epoch 10/20\n",
      "1706/1706 [==============================] - 18s 11ms/step - loss: 0.1251 - accuracy: 0.9417 - val_loss: 0.4906 - val_accuracy: 0.8819\n",
      "Epoch 11/20\n",
      "1706/1706 [==============================] - 18s 11ms/step - loss: 0.1213 - accuracy: 0.9446 - val_loss: 0.4979 - val_accuracy: 0.8856\n",
      "Epoch 12/20\n",
      "1706/1706 [==============================] - 18s 11ms/step - loss: 0.1157 - accuracy: 0.9467 - val_loss: 0.5146 - val_accuracy: 0.8827\n",
      "Epoch 13/20\n",
      "1706/1706 [==============================] - 18s 11ms/step - loss: 0.1113 - accuracy: 0.9476 - val_loss: 0.5197 - val_accuracy: 0.8828\n",
      "Epoch 14/20\n",
      "1706/1706 [==============================] - 18s 10ms/step - loss: 0.1091 - accuracy: 0.9491 - val_loss: 0.5545 - val_accuracy: 0.8865\n",
      "Epoch 15/20\n",
      "1706/1706 [==============================] - 18s 10ms/step - loss: 0.1052 - accuracy: 0.9505 - val_loss: 0.5568 - val_accuracy: 0.8807\n",
      "Epoch 16/20\n",
      "1706/1706 [==============================] - 18s 10ms/step - loss: 0.1023 - accuracy: 0.9511 - val_loss: 0.5728 - val_accuracy: 0.8852\n",
      "Epoch 17/20\n",
      "1706/1706 [==============================] - 18s 11ms/step - loss: 0.0988 - accuracy: 0.9531 - val_loss: 0.6593 - val_accuracy: 0.8791\n",
      "Epoch 18/20\n",
      "1706/1706 [==============================] - 18s 10ms/step - loss: 0.0973 - accuracy: 0.9531 - val_loss: 0.6332 - val_accuracy: 0.8860\n",
      "Epoch 19/20\n",
      "1706/1706 [==============================] - 18s 10ms/step - loss: 0.0943 - accuracy: 0.9549 - val_loss: 0.6561 - val_accuracy: 0.8797\n",
      "Epoch 20/20\n",
      "1706/1706 [==============================] - 18s 11ms/step - loss: 0.0937 - accuracy: 0.9543 - val_loss: 0.6939 - val_accuracy: 0.8873\n"
     ]
    }
   ],
   "source": [
    "dan_history_v2 = dan_model_v2.fit(sorted_training_input_ids, sorted_training_labels, validation_data=(test_input_ids, test_input_labels), batch_size=32, epochs=20)\n"
   ]
  },
  {
   "cell_type": "code",
   "execution_count": null,
   "metadata": {
    "colab": {
     "base_uri": "https://localhost:8080/"
    },
    "id": "1kpbf0MhQppx",
    "outputId": "b167f300-5cc0-4d5a-d2c7-09932f0fb5c2"
   },
   "outputs": [
    {
     "name": "stdout",
     "output_type": "stream",
     "text": [
      "Epoch 1/20\n",
      "1706/1706 [==============================] - 19s 11ms/step - loss: 0.4213 - accuracy: 0.7920 - val_loss: 0.3254 - val_accuracy: 0.8576\n",
      "Epoch 2/20\n",
      "1706/1706 [==============================] - 18s 11ms/step - loss: 0.2725 - accuracy: 0.8809 - val_loss: 0.3144 - val_accuracy: 0.8644\n",
      "Epoch 3/20\n",
      "1706/1706 [==============================] - 18s 10ms/step - loss: 0.2324 - accuracy: 0.8981 - val_loss: 0.3131 - val_accuracy: 0.8726\n",
      "Epoch 4/20\n",
      "1706/1706 [==============================] - 18s 11ms/step - loss: 0.2088 - accuracy: 0.9058 - val_loss: 0.3200 - val_accuracy: 0.8742\n",
      "Epoch 5/20\n",
      "1706/1706 [==============================] - 18s 10ms/step - loss: 0.1906 - accuracy: 0.9139 - val_loss: 0.3458 - val_accuracy: 0.8761\n",
      "Epoch 6/20\n",
      "1706/1706 [==============================] - 18s 11ms/step - loss: 0.1777 - accuracy: 0.9186 - val_loss: 0.3494 - val_accuracy: 0.8753\n",
      "Epoch 7/20\n",
      "1706/1706 [==============================] - 18s 10ms/step - loss: 0.1671 - accuracy: 0.9233 - val_loss: 0.3647 - val_accuracy: 0.8781\n",
      "Epoch 8/20\n",
      "1706/1706 [==============================] - 18s 10ms/step - loss: 0.1580 - accuracy: 0.9260 - val_loss: 0.3938 - val_accuracy: 0.8835\n",
      "Epoch 9/20\n",
      "1706/1706 [==============================] - 18s 10ms/step - loss: 0.1489 - accuracy: 0.9304 - val_loss: 0.3830 - val_accuracy: 0.8763\n",
      "Epoch 10/20\n",
      "1706/1706 [==============================] - 18s 10ms/step - loss: 0.1420 - accuracy: 0.9343 - val_loss: 0.4270 - val_accuracy: 0.8838\n",
      "Epoch 11/20\n",
      "1706/1706 [==============================] - 18s 11ms/step - loss: 0.1367 - accuracy: 0.9358 - val_loss: 0.4449 - val_accuracy: 0.8695\n",
      "Epoch 12/20\n",
      "1706/1706 [==============================] - 18s 11ms/step - loss: 0.1331 - accuracy: 0.9373 - val_loss: 0.4681 - val_accuracy: 0.8848\n",
      "Epoch 13/20\n",
      "1706/1706 [==============================] - 18s 10ms/step - loss: 0.1275 - accuracy: 0.9392 - val_loss: 0.4716 - val_accuracy: 0.8855\n",
      "Epoch 14/20\n",
      "1706/1706 [==============================] - 20s 12ms/step - loss: 0.1242 - accuracy: 0.9422 - val_loss: 0.4937 - val_accuracy: 0.8844\n",
      "Epoch 15/20\n",
      "1706/1706 [==============================] - 19s 11ms/step - loss: 0.1205 - accuracy: 0.9432 - val_loss: 0.4803 - val_accuracy: 0.8798\n",
      "Epoch 16/20\n",
      "1706/1706 [==============================] - 18s 10ms/step - loss: 0.1177 - accuracy: 0.9448 - val_loss: 0.5186 - val_accuracy: 0.8844\n",
      "Epoch 17/20\n",
      "1706/1706 [==============================] - 18s 11ms/step - loss: 0.1134 - accuracy: 0.9467 - val_loss: 0.5321 - val_accuracy: 0.8837\n",
      "Epoch 18/20\n",
      "1706/1706 [==============================] - 18s 10ms/step - loss: 0.1117 - accuracy: 0.9480 - val_loss: 0.5533 - val_accuracy: 0.8858\n",
      "Epoch 19/20\n",
      "1706/1706 [==============================] - 18s 11ms/step - loss: 0.1079 - accuracy: 0.9491 - val_loss: 0.6035 - val_accuracy: 0.8805\n",
      "Epoch 20/20\n",
      "1706/1706 [==============================] - 18s 11ms/step - loss: 0.1060 - accuracy: 0.9499 - val_loss: 0.5732 - val_accuracy: 0.8847\n"
     ]
    }
   ],
   "source": [
    "dan_history_v3 = dan_model_v3.fit(sorted_training_input_ids, sorted_training_labels, validation_data=(test_input_ids, test_input_labels), batch_size=32, epochs=20)\n"
   ]
  },
  {
   "cell_type": "code",
   "execution_count": null,
   "metadata": {
    "colab": {
     "base_uri": "https://localhost:8080/",
     "height": 635
    },
    "id": "xZ4BZBTPQrWA",
    "outputId": "48167263-c8db-4a4a-ce84-65977d2bb6b3"
   },
   "outputs": [
    {
     "data": {
      "image/png": "[encoded data removed]",
      "text/plain": [
       "<Figure size 1332x756 with 4 Axes>"
      ]
     },
     "metadata": {
      "needs_background": "light"
     },
     "output_type": "display_data"
    }
   ],
   "source": [
    "fig, axs = plt.subplots(2, 2)\n",
    "fig.subplots_adjust(left=0.2, wspace=0.6)\n",
    "make_plot(axs, \n",
    "          dan_history_v1,\n",
    "          dan_history_v2, \n",
    "          model_1_name='dan_v1',\n",
    "         model_2_name='dan_v2')\n",
    "\n",
    "fig.align_ylabels(axs[:, 1])\n",
    "fig.set_size_inches(18.5, 10.5)\n",
    "plt.show()"
   ]
  },
  {
   "cell_type": "code",
   "execution_count": null,
   "metadata": {
    "colab": {
     "base_uri": "https://localhost:8080/",
     "height": 635
    },
    "id": "afKAgDjWRCMj",
    "outputId": "d9231d84-7986-418e-e1fe-c434f57b8d88"
   },
   "outputs": [
    {
     "data": {
      "image/png": "[encoded data removed]",
      "text/plain": [
       "<Figure size 1332x756 with 4 Axes>"
      ]
     },
     "metadata": {
      "needs_background": "light"
     },
     "output_type": "display_data"
    }
   ],
   "source": [
    "fig, axs = plt.subplots(2, 2)\n",
    "fig.subplots_adjust(left=0.2, wspace=0.6)\n",
    "make_plot(axs, \n",
    "          dan_history_v2,\n",
    "          dan_history_v3, \n",
    "          model_1_name='dan_v2',\n",
    "         model_2_name='dan_v3')\n",
    "\n",
    "fig.align_ylabels(axs[:, 1])\n",
    "fig.set_size_inches(18.5, 10.5)\n",
    "plt.show()"
   ]
  },
  {
   "cell_type": "markdown",
   "metadata": {
    "id": "bRWLsg0WNdcE"
   },
   "source": [
    "### 2.3 Experiment 1 - Weighted Averaging Network"
   ]
  },
  {
   "cell_type": "code",
   "execution_count": null,
   "metadata": {
    "id": "_9F8zY4WG3Mg"
   },
   "outputs": [],
   "source": [
    "def create_wan_model(retrain_embeddings=False, \n",
    "                     max_sequence_length=SEQUENCE_LENGTH,\n",
    "                     hidden_dim=100,\n",
    "                     dropout=0.3,\n",
    "                     learning_rate=0.001):\n",
    "    \"\"\"\n",
    "    Construct the WAN model including the compilation and return it. Parametrize it using the arguments.\n",
    "    :param retrain_embeddings: boolean, indicating whether the word embeddings are trainable\n",
    "    :param hidden_dim: dimension of the hidden layer\n",
    "    :param dropout: dropout applied to the hidden layer\n",
    "\n",
    "    :returns: the compiled model\n",
    "    \"\"\"\n",
    "    wan_embedding_layer = Embedding(embedding_matrix.shape[0],\n",
    "                                  embedding_matrix.shape[1],\n",
    "                                  embeddings_initializer = tf.keras.initializers.Constant(embedding_matrix),\n",
    "                                  input_length = max_sequence_length,\n",
    "                                  trainable = retrain_embeddings)\n",
    "    wan_input_layer = tf.keras.layers.Input(shape=(max_sequence_length,), dtype='int64')\n",
    "    wan_embeddings = wan_embedding_layer(wan_input_layer)\n",
    "\n",
    "    wan_query_layer = tf.keras.layers.Dense(embedding_matrix.shape[1])\n",
    "    wan_one_vector = tf.Variable(tf.ones((1, 1, 1)))\n",
    "    wan_batch_of_ones = tf.tile(wan_one_vector, (tf.shape(wan_input_layer)[0], 1, 1))\n",
    "    wan_query_vector = wan_query_layer(wan_batch_of_ones)\n",
    "\n",
    "    wan_attention_output = tf.keras.layers.Attention()([wan_query_vector, wan_embeddings])\n",
    "    wan_attention_output = tf.keras.layers.Reshape((wan_attention_output.shape[-1],))(wan_attention_output)\n",
    "\n",
    "    last_hidden_output = wan_attention_output\n",
    "\n",
    "    if type(hidden_dim) is not list:\n",
    "        hidden_dim = [hidden_dim]\n",
    "\n",
    "    for i, h_dim in enumerate(hidden_dim):\n",
    "        last_hidden_output = tf.keras.layers.Dense(h_dim, activation='relu', name='dan_hidden_%d' % i)(last_hidden_output)\n",
    "        last_hidden_output = tf.keras.layers.Dropout(dropout)(last_hidden_output)\n",
    "  \n",
    "    wan_classification = tf.keras.layers.Dense(1, activation='sigmoid', name='dan_classification')(last_hidden_output)\n",
    "\n",
    "    wan_model = tf.keras.models.Model(inputs=wan_input_layer, outputs=[wan_classification])\n",
    "\n",
    "    wan_model.compile(loss='binary_crossentropy',\n",
    "                    optimizer=tf.keras.optimizers.Adam(learning_rate=learning_rate,\n",
    "                                                       beta_1=0.9,\n",
    "                                                       beta_2=0.999,\n",
    "                                                       epsilon=1e-07,\n",
    "                                                       amsgrad=False,\n",
    "                                                       name='Adam'),\n",
    "                    metrics='accuracy')\n",
    "    \n",
    "    return wan_model"
   ]
  },
  {
   "cell_type": "code",
   "execution_count": null,
   "metadata": {
    "colab": {
     "base_uri": "https://localhost:8080/"
    },
    "id": "A3WYcv0CNMGC",
    "outputId": "bb858aa7-c77c-4cac-8a77-d33bc4841737"
   },
   "outputs": [
    {
     "name": "stderr",
     "output_type": "stream",
     "text": [
      "WARNING:tensorflow:The following Variables were used in a Lambda layer's call (tf.tile), but are not present in its tracked objects:   <tf.Variable 'Variable:0' shape=(1, 1, 1) dtype=float32>. This is a strong indication that the Lambda layer should be rewritten as a subclassed Layer.\n"
     ]
    },
    {
     "name": "stdout",
     "output_type": "stream",
     "text": [
      "Epoch 1/20\n",
      "1706/1706 [==============================] - 9s 5ms/step - loss: 0.4418 - accuracy: 0.7848 - val_loss: 0.3886 - val_accuracy: 0.8193\n",
      "Epoch 2/20\n",
      "1706/1706 [==============================] - 10s 6ms/step - loss: 0.3826 - accuracy: 0.8198 - val_loss: 0.3726 - val_accuracy: 0.8275\n",
      "Epoch 3/20\n",
      "1706/1706 [==============================] - 7s 4ms/step - loss: 0.3703 - accuracy: 0.8244 - val_loss: 0.3672 - val_accuracy: 0.8249\n",
      "Epoch 4/20\n",
      "1706/1706 [==============================] - 7s 4ms/step - loss: 0.3613 - accuracy: 0.8311 - val_loss: 0.3626 - val_accuracy: 0.8289\n",
      "Epoch 5/20\n",
      "1706/1706 [==============================] - 7s 4ms/step - loss: 0.3552 - accuracy: 0.8339 - val_loss: 0.3617 - val_accuracy: 0.8338\n",
      "Epoch 6/20\n",
      "1706/1706 [==============================] - 7s 4ms/step - loss: 0.3494 - accuracy: 0.8367 - val_loss: 0.3540 - val_accuracy: 0.8349\n",
      "Epoch 7/20\n",
      "1706/1706 [==============================] - 7s 4ms/step - loss: 0.3423 - accuracy: 0.8417 - val_loss: 0.3498 - val_accuracy: 0.8393\n",
      "Epoch 8/20\n",
      "1706/1706 [==============================] - 6s 4ms/step - loss: 0.3380 - accuracy: 0.8456 - val_loss: 0.3486 - val_accuracy: 0.8395\n",
      "Epoch 9/20\n",
      "1706/1706 [==============================] - 7s 4ms/step - loss: 0.3315 - accuracy: 0.8485 - val_loss: 0.3448 - val_accuracy: 0.8424\n",
      "Epoch 10/20\n",
      "1706/1706 [==============================] - 7s 4ms/step - loss: 0.3264 - accuracy: 0.8508 - val_loss: 0.3417 - val_accuracy: 0.8481\n",
      "Epoch 11/20\n",
      "1706/1706 [==============================] - 7s 4ms/step - loss: 0.3206 - accuracy: 0.8561 - val_loss: 0.3406 - val_accuracy: 0.8506\n",
      "Epoch 12/20\n",
      "1706/1706 [==============================] - 7s 4ms/step - loss: 0.3159 - accuracy: 0.8577 - val_loss: 0.3352 - val_accuracy: 0.8511\n",
      "Epoch 13/20\n",
      "1706/1706 [==============================] - 7s 4ms/step - loss: 0.3109 - accuracy: 0.8609 - val_loss: 0.3337 - val_accuracy: 0.8536\n",
      "Epoch 14/20\n",
      "1706/1706 [==============================] - 7s 4ms/step - loss: 0.3054 - accuracy: 0.8647 - val_loss: 0.3293 - val_accuracy: 0.8571\n",
      "Epoch 15/20\n",
      "1706/1706 [==============================] - 6s 4ms/step - loss: 0.3005 - accuracy: 0.8673 - val_loss: 0.3314 - val_accuracy: 0.8542\n",
      "Epoch 16/20\n",
      "1706/1706 [==============================] - 6s 4ms/step - loss: 0.2940 - accuracy: 0.8698 - val_loss: 0.3263 - val_accuracy: 0.8572\n",
      "Epoch 17/20\n",
      "1706/1706 [==============================] - 7s 4ms/step - loss: 0.2910 - accuracy: 0.8715 - val_loss: 0.3260 - val_accuracy: 0.8571\n",
      "Epoch 18/20\n",
      "1706/1706 [==============================] - 8s 5ms/step - loss: 0.2883 - accuracy: 0.8741 - val_loss: 0.3215 - val_accuracy: 0.8599\n",
      "Epoch 19/20\n",
      "1706/1706 [==============================] - 7s 4ms/step - loss: 0.2828 - accuracy: 0.8765 - val_loss: 0.3199 - val_accuracy: 0.8610\n",
      "Epoch 20/20\n",
      "1706/1706 [==============================] - 7s 4ms/step - loss: 0.2773 - accuracy: 0.8792 - val_loss: 0.3212 - val_accuracy: 0.8626\n"
     ]
    }
   ],
   "source": [
    "wan_model = create_wan_model()\n",
    "\n",
    "wan_history = wan_model.fit(sorted_training_input_ids,\n",
    "                            sorted_training_labels,\n",
    "                            validation_data=(test_input_ids, test_input_labels),\n",
    "                            batch_size=32,\n",
    "                            epochs=20,\n",
    "                            shuffle=True\n",
    "                            )\n"
   ]
  },
  {
   "cell_type": "code",
   "execution_count": null,
   "metadata": {
    "colab": {
     "base_uri": "https://localhost:8080/",
     "height": 635
    },
    "id": "O-MMBGCWLwe1",
    "outputId": "b6b38481-0e25-4fc5-ef62-388490906849"
   },
   "outputs": [
    {
     "data": {
      "image/png": "[encoded data removed]",
      "text/plain": [
       "<Figure size 1332x756 with 4 Axes>"
      ]
     },
     "metadata": {
      "needs_background": "light"
     },
     "output_type": "display_data"
    }
   ],
   "source": [
    "fig, axs = plt.subplots(2, 2)\n",
    "fig.subplots_adjust(left=0.2, wspace=0.6)\n",
    "make_plot(axs, \n",
    "          dan_suffled_history,\n",
    "          wan_history, \n",
    "          model_1_name='dan',\n",
    "          model_2_name='wan')\n",
    "\n",
    "fig.align_ylabels(axs[:, 1])\n",
    "fig.set_size_inches(18.5, 10.5)\n",
    "plt.show()"
   ]
  },
  {
   "cell_type": "markdown",
   "metadata": {
    "id": "4BGRT1g6a0T6"
   },
   "source": [
    "### 2.4 Experiment 2 - BERT-cased vs BERT-uncased"
   ]
  },
  {
   "cell_type": "code",
   "execution_count": 9,
   "metadata": {
    "colab": {
     "base_uri": "https://localhost:8080/",
     "height": 154,
     "referenced_widgets": [
      "6f796c6248b14eab89c5bc77be153f83",
      "114605cd931a4d3ca4f064dacc8ca5d1",
      "66072c104271493086c98595b71d2a54",
      "85aed620b4f644ff896a14afdfc4cbf0",
      "85ccbb6df55d4e3d9132cc3d829adf3f",
      "e759b302a77e4e78a46fe927da4bc7cb",
      "da646798baa143fe87c1281de79097fe",
      "12ca7a6b3cf74884ab4f2a0110859050",
      "1d393c6ba79943a9ab1025b82b597f3f",
      "cf4509b8f434492f8112fe391328cf64",
      "bb0fb288b56f42f284ac9bfdeb73faed"
     ]
    },
    "id": "tnCeDGfFgPlL",
    "outputId": "51e2f610-797c-4ca0-ac9a-a9b37c57f965"
   },
   "outputs": [
    {
     "name": "stderr",
     "output_type": "stream",
     "text": [
      "Some layers from the model checkpoint at bert-base-uncased were not used when initializing TFBertModel: ['nsp___cls', 'mlm___cls']\n",
      "- This IS expected if you are initializing TFBertModel from the checkpoint of a model trained on another task or with another architecture (e.g. initializing a BertForSequenceClassification model from a BertForPreTraining model).\n",
      "- This IS NOT expected if you are initializing TFBertModel from the checkpoint of a model that you expect to be exactly identical (initializing a BertForSequenceClassification model from a BertForSequenceClassification model).\n",
      "All the layers of TFBertModel were initialized from the model checkpoint at bert-base-uncased.\n",
      "If your task is similar to the task the model of the checkpoint was trained on, you can already use TFBertModel for predictions without further training.\n"
     ]
    }
   ],
   "source": [
    "bert_model_uncased = TFBertModel.from_pretrained('bert-base-uncased')"
   ]
  },
  {
   "cell_type": "code",
   "execution_count": 10,
   "metadata": {
    "id": "4hpNQPvBehMc"
   },
   "outputs": [],
   "source": [
    "def create_bert_classification_model(bert_model,\n",
    "                                     train_layers=-1,\n",
    "                                     hidden_size = 200, \n",
    "                                     dropout=0.3,\n",
    "                                     learning_rate=0.00005):\n",
    "    \"\"\"\n",
    "    Build a simple classification model with BERT. Use the Pooled Output for classification purposes\n",
    "    \"\"\"\n",
    "    if train_layers == -1:\n",
    "        # Freeze all layers of pre-trained BERT model\n",
    "        bert_model.trainable = False\n",
    "\n",
    "    else:\n",
    "        # Restrict training to the train_layers outer transformer layers\n",
    "        retrain_layers = []\n",
    "\n",
    "        for retrain_layer_number in range(train_layers):\n",
    "\n",
    "            layer_code = '_' + str(11 - retrain_layer_number)\n",
    "            retrain_layers.append(layer_code)\n",
    "          \n",
    "        \n",
    "        # print('retrain layers: ', retrain_layers)\n",
    "\n",
    "        for w in bert_model.weights:\n",
    "            if not any([x in w.name for x in retrain_layers]):\n",
    "                # print('freezing: ', w)\n",
    "                w._trainable = False\n",
    "\n",
    "    input_ids = tf.keras.layers.Input(shape=(max_length,), dtype=tf.int64, name='input_ids_layer')\n",
    "    token_type_ids = tf.keras.layers.Input(shape=(max_length,), dtype=tf.int64, name='token_type_ids_layer')\n",
    "    attention_mask = tf.keras.layers.Input(shape=(max_length,), dtype=tf.int64, name='attention_mask_layer')\n",
    "\n",
    "    bert_inputs = {'input_ids': input_ids,\n",
    "                   'token_type_ids': token_type_ids,\n",
    "                   'attention_mask': attention_mask}      \n",
    "\n",
    "    bert_out = bert_model(bert_inputs)\n",
    "\n",
    "    pooled_token = bert_out[1]\n",
    "    #cls_token = bert_out[0][:, 0, :]\n",
    "\n",
    "    hidden = tf.keras.layers.Dense(hidden_size, activation='relu', name='hidden_layer')(pooled_token)\n",
    "\n",
    "\n",
    "    hidden = tf.keras.layers.Dropout(dropout)(hidden)  \n",
    "\n",
    "\n",
    "    classification = tf.keras.layers.Dense(1, activation='sigmoid',name='classification_layer')(hidden)\n",
    "    \n",
    "    classification_model = tf.keras.Model(inputs=[input_ids, token_type_ids, attention_mask], outputs=[classification])\n",
    "    \n",
    "    classification_model.compile(optimizer=tf.keras.optimizers.Adam(learning_rate=learning_rate),\n",
    "                                 loss=tf.keras.losses.BinaryCrossentropy(from_logits=False), \n",
    "                                 metrics='accuracy')\n",
    "    \n",
    "    return classification_model"
   ]
  },
  {
   "cell_type": "code",
   "execution_count": 11,
   "metadata": {},
   "outputs": [
    {
     "data": {
      "application/vnd.jupyter.widget-view+json": {
       "model_id": "f65de22a8bcf4bd4845e7bfc7ae1c113",
       "version_major": 2,
       "version_minor": 0
      },
      "text/plain": [
       "Downloading:   0%|          | 0.00/232k [00:00<?, ?B/s]"
      ]
     },
     "metadata": {},
     "output_type": "display_data"
    },
    {
     "data": {
      "application/vnd.jupyter.widget-view+json": {
       "model_id": "27fc5058e0c54324a54ee6b3bfca931c",
       "version_major": 2,
       "version_minor": 0
      },
      "text/plain": [
       "Downloading:   0%|          | 0.00/28.0 [00:00<?, ?B/s]"
      ]
     },
     "metadata": {},
     "output_type": "display_data"
    }
   ],
   "source": [
    "bert_tokenizer = BertTokenizer.from_pretrained('bert-base-uncased')\n",
    "\n",
    "x_train_uncased = bert_tokenizer(all_train_examples,\n",
    "              max_length=max_length,\n",
    "              truncation=True,\n",
    "              padding='max_length', \n",
    "              return_tensors='tf')\n",
    "\n",
    "x_test_uncased = bert_tokenizer(all_test_examples,\n",
    "              max_length=max_length,\n",
    "              truncation=True,\n",
    "              padding='max_length', \n",
    "              return_tensors='tf')"
   ]
  },
  {
   "cell_type": "code",
   "execution_count": 28,
   "metadata": {
    "colab": {
     "base_uri": "https://localhost:8080/"
    },
    "id": "liGkdkRKtVnM",
    "outputId": "db1c35d6-2a50-40ef-8ed5-a3222bbc21e3",
    "scrolled": false
   },
   "outputs": [
    {
     "name": "stdout",
     "output_type": "stream",
     "text": [
      "Epoch 1/10\n",
      "WARNING:tensorflow:Gradients do not exist for variables ['tf_bert_model_3/bert/embeddings/word_embeddings/weight:0', 'tf_bert_model_3/bert/embeddings/token_type_embeddings/embeddings:0', 'tf_bert_model_3/bert/embeddings/position_embeddings/embeddings:0', 'tf_bert_model_3/bert/embeddings/LayerNorm/gamma:0', 'tf_bert_model_3/bert/embeddings/LayerNorm/beta:0', 'tf_bert_model_3/bert/encoder/layer_._0/attention/self/query/kernel:0', 'tf_bert_model_3/bert/encoder/layer_._0/attention/self/query/bias:0', 'tf_bert_model_3/bert/encoder/layer_._0/attention/self/key/kernel:0', 'tf_bert_model_3/bert/encoder/layer_._0/attention/self/key/bias:0', 'tf_bert_model_3/bert/encoder/layer_._0/attention/self/value/kernel:0', 'tf_bert_model_3/bert/encoder/layer_._0/attention/self/value/bias:0', 'tf_bert_model_3/bert/encoder/layer_._0/attention/output/dense/kernel:0', 'tf_bert_model_3/bert/encoder/layer_._0/attention/output/dense/bias:0', 'tf_bert_model_3/bert/encoder/layer_._0/attention/output/LayerNorm/gamma:0', 'tf_bert_model_3/bert/encoder/layer_._0/attention/output/LayerNorm/beta:0', 'tf_bert_model_3/bert/encoder/layer_._0/intermediate/dense/kernel:0', 'tf_bert_model_3/bert/encoder/layer_._0/intermediate/dense/bias:0', 'tf_bert_model_3/bert/encoder/layer_._0/output/dense/kernel:0', 'tf_bert_model_3/bert/encoder/layer_._0/output/dense/bias:0', 'tf_bert_model_3/bert/encoder/layer_._0/output/LayerNorm/gamma:0', 'tf_bert_model_3/bert/encoder/layer_._0/output/LayerNorm/beta:0', 'tf_bert_model_3/bert/encoder/layer_._1/attention/self/query/kernel:0', 'tf_bert_model_3/bert/encoder/layer_._1/attention/self/query/bias:0', 'tf_bert_model_3/bert/encoder/layer_._1/attention/self/key/kernel:0', 'tf_bert_model_3/bert/encoder/layer_._1/attention/self/key/bias:0', 'tf_bert_model_3/bert/encoder/layer_._1/attention/self/value/kernel:0', 'tf_bert_model_3/bert/encoder/layer_._1/attention/self/value/bias:0', 'tf_bert_model_3/bert/encoder/layer_._1/attention/output/dense/kernel:0', 'tf_bert_model_3/bert/encoder/layer_._1/attention/output/dense/bias:0', 'tf_bert_model_3/bert/encoder/layer_._1/attention/output/LayerNorm/gamma:0', 'tf_bert_model_3/bert/encoder/layer_._1/attention/output/LayerNorm/beta:0', 'tf_bert_model_3/bert/encoder/layer_._1/intermediate/dense/kernel:0', 'tf_bert_model_3/bert/encoder/layer_._1/intermediate/dense/bias:0', 'tf_bert_model_3/bert/encoder/layer_._1/output/dense/kernel:0', 'tf_bert_model_3/bert/encoder/layer_._1/output/dense/bias:0', 'tf_bert_model_3/bert/encoder/layer_._1/output/LayerNorm/gamma:0', 'tf_bert_model_3/bert/encoder/layer_._1/output/LayerNorm/beta:0', 'tf_bert_model_3/bert/encoder/layer_._2/attention/self/query/kernel:0', 'tf_bert_model_3/bert/encoder/layer_._2/attention/self/query/bias:0', 'tf_bert_model_3/bert/encoder/layer_._2/attention/self/key/kernel:0', 'tf_bert_model_3/bert/encoder/layer_._2/attention/self/key/bias:0', 'tf_bert_model_3/bert/encoder/layer_._2/attention/self/value/kernel:0', 'tf_bert_model_3/bert/encoder/layer_._2/attention/self/value/bias:0', 'tf_bert_model_3/bert/encoder/layer_._2/attention/output/dense/kernel:0', 'tf_bert_model_3/bert/encoder/layer_._2/attention/output/dense/bias:0', 'tf_bert_model_3/bert/encoder/layer_._2/attention/output/LayerNorm/gamma:0', 'tf_bert_model_3/bert/encoder/layer_._2/attention/output/LayerNorm/beta:0', 'tf_bert_model_3/bert/encoder/layer_._2/intermediate/dense/kernel:0', 'tf_bert_model_3/bert/encoder/layer_._2/intermediate/dense/bias:0', 'tf_bert_model_3/bert/encoder/layer_._2/output/dense/kernel:0', 'tf_bert_model_3/bert/encoder/layer_._2/output/dense/bias:0', 'tf_bert_model_3/bert/encoder/layer_._2/output/LayerNorm/gamma:0', 'tf_bert_model_3/bert/encoder/layer_._2/output/LayerNorm/beta:0', 'tf_bert_model_3/bert/encoder/layer_._3/attention/self/query/kernel:0', 'tf_bert_model_3/bert/encoder/layer_._3/attention/self/query/bias:0', 'tf_bert_model_3/bert/encoder/layer_._3/attention/self/key/kernel:0', 'tf_bert_model_3/bert/encoder/layer_._3/attention/self/key/bias:0', 'tf_bert_model_3/bert/encoder/layer_._3/attention/self/value/kernel:0', 'tf_bert_model_3/bert/encoder/layer_._3/attention/self/value/bias:0', 'tf_bert_model_3/bert/encoder/layer_._3/attention/output/dense/kernel:0', 'tf_bert_model_3/bert/encoder/layer_._3/attention/output/dense/bias:0', 'tf_bert_model_3/bert/encoder/layer_._3/attention/output/LayerNorm/gamma:0', 'tf_bert_model_3/bert/encoder/layer_._3/attention/output/LayerNorm/beta:0', 'tf_bert_model_3/bert/encoder/layer_._3/intermediate/dense/kernel:0', 'tf_bert_model_3/bert/encoder/layer_._3/intermediate/dense/bias:0', 'tf_bert_model_3/bert/encoder/layer_._3/output/dense/kernel:0', 'tf_bert_model_3/bert/encoder/layer_._3/output/dense/bias:0', 'tf_bert_model_3/bert/encoder/layer_._3/output/LayerNorm/gamma:0', 'tf_bert_model_3/bert/encoder/layer_._3/output/LayerNorm/beta:0', 'tf_bert_model_3/bert/encoder/layer_._4/attention/self/query/kernel:0', 'tf_bert_model_3/bert/encoder/layer_._4/attention/self/query/bias:0', 'tf_bert_model_3/bert/encoder/layer_._4/attention/self/key/kernel:0', 'tf_bert_model_3/bert/encoder/layer_._4/attention/self/key/bias:0', 'tf_bert_model_3/bert/encoder/layer_._4/attention/self/value/kernel:0', 'tf_bert_model_3/bert/encoder/layer_._4/attention/self/value/bias:0', 'tf_bert_model_3/bert/encoder/layer_._4/attention/output/dense/kernel:0', 'tf_bert_model_3/bert/encoder/layer_._4/attention/output/dense/bias:0', 'tf_bert_model_3/bert/encoder/layer_._4/attention/output/LayerNorm/gamma:0', 'tf_bert_model_3/bert/encoder/layer_._4/attention/output/LayerNorm/beta:0', 'tf_bert_model_3/bert/encoder/layer_._4/intermediate/dense/kernel:0', 'tf_bert_model_3/bert/encoder/layer_._4/intermediate/dense/bias:0', 'tf_bert_model_3/bert/encoder/layer_._4/output/dense/kernel:0', 'tf_bert_model_3/bert/encoder/layer_._4/output/dense/bias:0', 'tf_bert_model_3/bert/encoder/layer_._4/output/LayerNorm/gamma:0', 'tf_bert_model_3/bert/encoder/layer_._4/output/LayerNorm/beta:0', 'tf_bert_model_3/bert/encoder/layer_._5/attention/self/query/kernel:0', 'tf_bert_model_3/bert/encoder/layer_._5/attention/self/query/bias:0', 'tf_bert_model_3/bert/encoder/layer_._5/attention/self/key/kernel:0', 'tf_bert_model_3/bert/encoder/layer_._5/attention/self/key/bias:0', 'tf_bert_model_3/bert/encoder/layer_._5/attention/self/value/kernel:0', 'tf_bert_model_3/bert/encoder/layer_._5/attention/self/value/bias:0', 'tf_bert_model_3/bert/encoder/layer_._5/attention/output/dense/kernel:0', 'tf_bert_model_3/bert/encoder/layer_._5/attention/output/dense/bias:0', 'tf_bert_model_3/bert/encoder/layer_._5/attention/output/LayerNorm/gamma:0', 'tf_bert_model_3/bert/encoder/layer_._5/attention/output/LayerNorm/beta:0', 'tf_bert_model_3/bert/encoder/layer_._5/intermediate/dense/kernel:0', 'tf_bert_model_3/bert/encoder/layer_._5/intermediate/dense/bias:0', 'tf_bert_model_3/bert/encoder/layer_._5/output/dense/kernel:0', 'tf_bert_model_3/bert/encoder/layer_._5/output/dense/bias:0', 'tf_bert_model_3/bert/encoder/layer_._5/output/LayerNorm/gamma:0', 'tf_bert_model_3/bert/encoder/layer_._5/output/LayerNorm/beta:0', 'tf_bert_model_3/bert/encoder/layer_._6/attention/self/query/kernel:0', 'tf_bert_model_3/bert/encoder/layer_._6/attention/self/query/bias:0', 'tf_bert_model_3/bert/encoder/layer_._6/attention/self/key/kernel:0', 'tf_bert_model_3/bert/encoder/layer_._6/attention/self/key/bias:0', 'tf_bert_model_3/bert/encoder/layer_._6/attention/self/value/kernel:0', 'tf_bert_model_3/bert/encoder/layer_._6/attention/self/value/bias:0', 'tf_bert_model_3/bert/encoder/layer_._6/attention/output/dense/kernel:0', 'tf_bert_model_3/bert/encoder/layer_._6/attention/output/dense/bias:0', 'tf_bert_model_3/bert/encoder/layer_._6/attention/output/LayerNorm/gamma:0', 'tf_bert_model_3/bert/encoder/layer_._6/attention/output/LayerNorm/beta:0', 'tf_bert_model_3/bert/encoder/layer_._6/intermediate/dense/kernel:0', 'tf_bert_model_3/bert/encoder/layer_._6/intermediate/dense/bias:0', 'tf_bert_model_3/bert/encoder/layer_._6/output/dense/kernel:0', 'tf_bert_model_3/bert/encoder/layer_._6/output/dense/bias:0', 'tf_bert_model_3/bert/encoder/layer_._6/output/LayerNorm/gamma:0', 'tf_bert_model_3/bert/encoder/layer_._6/output/LayerNorm/beta:0', 'tf_bert_model_3/bert/encoder/layer_._7/attention/self/query/kernel:0', 'tf_bert_model_3/bert/encoder/layer_._7/attention/self/query/bias:0', 'tf_bert_model_3/bert/encoder/layer_._7/attention/self/key/kernel:0', 'tf_bert_model_3/bert/encoder/layer_._7/attention/self/key/bias:0', 'tf_bert_model_3/bert/encoder/layer_._7/attention/self/value/kernel:0', 'tf_bert_model_3/bert/encoder/layer_._7/attention/self/value/bias:0', 'tf_bert_model_3/bert/encoder/layer_._7/attention/output/dense/kernel:0', 'tf_bert_model_3/bert/encoder/layer_._7/attention/output/dense/bias:0', 'tf_bert_model_3/bert/encoder/layer_._7/attention/output/LayerNorm/gamma:0', 'tf_bert_model_3/bert/encoder/layer_._7/attention/output/LayerNorm/beta:0', 'tf_bert_model_3/bert/encoder/layer_._7/intermediate/dense/kernel:0', 'tf_bert_model_3/bert/encoder/layer_._7/intermediate/dense/bias:0', 'tf_bert_model_3/bert/encoder/layer_._7/output/dense/kernel:0', 'tf_bert_model_3/bert/encoder/layer_._7/output/dense/bias:0', 'tf_bert_model_3/bert/encoder/layer_._7/output/LayerNorm/gamma:0', 'tf_bert_model_3/bert/encoder/layer_._7/output/LayerNorm/beta:0', 'tf_bert_model_3/bert/pooler/dense/kernel:0', 'tf_bert_model_3/bert/pooler/dense/bias:0'] when minimizing the loss. If you're using `model.compile()`, did you forget to provide a `loss`argument?\n"
     ]
    },
    {
     "name": "stdout",
     "output_type": "stream",
     "text": [
      "WARNING:tensorflow:Gradients do not exist for variables ['tf_bert_model_3/bert/embeddings/word_embeddings/weight:0', 'tf_bert_model_3/bert/embeddings/token_type_embeddings/embeddings:0', 'tf_bert_model_3/bert/embeddings/position_embeddings/embeddings:0', 'tf_bert_model_3/bert/embeddings/LayerNorm/gamma:0', 'tf_bert_model_3/bert/embeddings/LayerNorm/beta:0', 'tf_bert_model_3/bert/encoder/layer_._0/attention/self/query/kernel:0', 'tf_bert_model_3/bert/encoder/layer_._0/attention/self/query/bias:0', 'tf_bert_model_3/bert/encoder/layer_._0/attention/self/key/kernel:0', 'tf_bert_model_3/bert/encoder/layer_._0/attention/self/key/bias:0', 'tf_bert_model_3/bert/encoder/layer_._0/attention/self/value/kernel:0', 'tf_bert_model_3/bert/encoder/layer_._0/attention/self/value/bias:0', 'tf_bert_model_3/bert/encoder/layer_._0/attention/output/dense/kernel:0', 'tf_bert_model_3/bert/encoder/layer_._0/attention/output/dense/bias:0', 'tf_bert_model_3/bert/encoder/layer_._0/attention/output/LayerNorm/gamma:0', 'tf_bert_model_3/bert/encoder/layer_._0/attention/output/LayerNorm/beta:0', 'tf_bert_model_3/bert/encoder/layer_._0/intermediate/dense/kernel:0', 'tf_bert_model_3/bert/encoder/layer_._0/intermediate/dense/bias:0', 'tf_bert_model_3/bert/encoder/layer_._0/output/dense/kernel:0', 'tf_bert_model_3/bert/encoder/layer_._0/output/dense/bias:0', 'tf_bert_model_3/bert/encoder/layer_._0/output/LayerNorm/gamma:0', 'tf_bert_model_3/bert/encoder/layer_._0/output/LayerNorm/beta:0', 'tf_bert_model_3/bert/encoder/layer_._1/attention/self/query/kernel:0', 'tf_bert_model_3/bert/encoder/layer_._1/attention/self/query/bias:0', 'tf_bert_model_3/bert/encoder/layer_._1/attention/self/key/kernel:0', 'tf_bert_model_3/bert/encoder/layer_._1/attention/self/key/bias:0', 'tf_bert_model_3/bert/encoder/layer_._1/attention/self/value/kernel:0', 'tf_bert_model_3/bert/encoder/layer_._1/attention/self/value/bias:0', 'tf_bert_model_3/bert/encoder/layer_._1/attention/output/dense/kernel:0', 'tf_bert_model_3/bert/encoder/layer_._1/attention/output/dense/bias:0', 'tf_bert_model_3/bert/encoder/layer_._1/attention/output/LayerNorm/gamma:0', 'tf_bert_model_3/bert/encoder/layer_._1/attention/output/LayerNorm/beta:0', 'tf_bert_model_3/bert/encoder/layer_._1/intermediate/dense/kernel:0', 'tf_bert_model_3/bert/encoder/layer_._1/intermediate/dense/bias:0', 'tf_bert_model_3/bert/encoder/layer_._1/output/dense/kernel:0', 'tf_bert_model_3/bert/encoder/layer_._1/output/dense/bias:0', 'tf_bert_model_3/bert/encoder/layer_._1/output/LayerNorm/gamma:0', 'tf_bert_model_3/bert/encoder/layer_._1/output/LayerNorm/beta:0', 'tf_bert_model_3/bert/encoder/layer_._2/attention/self/query/kernel:0', 'tf_bert_model_3/bert/encoder/layer_._2/attention/self/query/bias:0', 'tf_bert_model_3/bert/encoder/layer_._2/attention/self/key/kernel:0', 'tf_bert_model_3/bert/encoder/layer_._2/attention/self/key/bias:0', 'tf_bert_model_3/bert/encoder/layer_._2/attention/self/value/kernel:0', 'tf_bert_model_3/bert/encoder/layer_._2/attention/self/value/bias:0', 'tf_bert_model_3/bert/encoder/layer_._2/attention/output/dense/kernel:0', 'tf_bert_model_3/bert/encoder/layer_._2/attention/output/dense/bias:0', 'tf_bert_model_3/bert/encoder/layer_._2/attention/output/LayerNorm/gamma:0', 'tf_bert_model_3/bert/encoder/layer_._2/attention/output/LayerNorm/beta:0', 'tf_bert_model_3/bert/encoder/layer_._2/intermediate/dense/kernel:0', 'tf_bert_model_3/bert/encoder/layer_._2/intermediate/dense/bias:0', 'tf_bert_model_3/bert/encoder/layer_._2/output/dense/kernel:0', 'tf_bert_model_3/bert/encoder/layer_._2/output/dense/bias:0', 'tf_bert_model_3/bert/encoder/layer_._2/output/LayerNorm/gamma:0', 'tf_bert_model_3/bert/encoder/layer_._2/output/LayerNorm/beta:0', 'tf_bert_model_3/bert/encoder/layer_._3/attention/self/query/kernel:0', 'tf_bert_model_3/bert/encoder/layer_._3/attention/self/query/bias:0', 'tf_bert_model_3/bert/encoder/layer_._3/attention/self/key/kernel:0', 'tf_bert_model_3/bert/encoder/layer_._3/attention/self/key/bias:0', 'tf_bert_model_3/bert/encoder/layer_._3/attention/self/value/kernel:0', 'tf_bert_model_3/bert/encoder/layer_._3/attention/self/value/bias:0', 'tf_bert_model_3/bert/encoder/layer_._3/attention/output/dense/kernel:0', 'tf_bert_model_3/bert/encoder/layer_._3/attention/output/dense/bias:0', 'tf_bert_model_3/bert/encoder/layer_._3/attention/output/LayerNorm/gamma:0', 'tf_bert_model_3/bert/encoder/layer_._3/attention/output/LayerNorm/beta:0', 'tf_bert_model_3/bert/encoder/layer_._3/intermediate/dense/kernel:0', 'tf_bert_model_3/bert/encoder/layer_._3/intermediate/dense/bias:0', 'tf_bert_model_3/bert/encoder/layer_._3/output/dense/kernel:0', 'tf_bert_model_3/bert/encoder/layer_._3/output/dense/bias:0', 'tf_bert_model_3/bert/encoder/layer_._3/output/LayerNorm/gamma:0', 'tf_bert_model_3/bert/encoder/layer_._3/output/LayerNorm/beta:0', 'tf_bert_model_3/bert/encoder/layer_._4/attention/self/query/kernel:0', 'tf_bert_model_3/bert/encoder/layer_._4/attention/self/query/bias:0', 'tf_bert_model_3/bert/encoder/layer_._4/attention/self/key/kernel:0', 'tf_bert_model_3/bert/encoder/layer_._4/attention/self/key/bias:0', 'tf_bert_model_3/bert/encoder/layer_._4/attention/self/value/kernel:0', 'tf_bert_model_3/bert/encoder/layer_._4/attention/self/value/bias:0', 'tf_bert_model_3/bert/encoder/layer_._4/attention/output/dense/kernel:0', 'tf_bert_model_3/bert/encoder/layer_._4/attention/output/dense/bias:0', 'tf_bert_model_3/bert/encoder/layer_._4/attention/output/LayerNorm/gamma:0', 'tf_bert_model_3/bert/encoder/layer_._4/attention/output/LayerNorm/beta:0', 'tf_bert_model_3/bert/encoder/layer_._4/intermediate/dense/kernel:0', 'tf_bert_model_3/bert/encoder/layer_._4/intermediate/dense/bias:0', 'tf_bert_model_3/bert/encoder/layer_._4/output/dense/kernel:0', 'tf_bert_model_3/bert/encoder/layer_._4/output/dense/bias:0', 'tf_bert_model_3/bert/encoder/layer_._4/output/LayerNorm/gamma:0', 'tf_bert_model_3/bert/encoder/layer_._4/output/LayerNorm/beta:0', 'tf_bert_model_3/bert/encoder/layer_._5/attention/self/query/kernel:0', 'tf_bert_model_3/bert/encoder/layer_._5/attention/self/query/bias:0', 'tf_bert_model_3/bert/encoder/layer_._5/attention/self/key/kernel:0', 'tf_bert_model_3/bert/encoder/layer_._5/attention/self/key/bias:0', 'tf_bert_model_3/bert/encoder/layer_._5/attention/self/value/kernel:0', 'tf_bert_model_3/bert/encoder/layer_._5/attention/self/value/bias:0', 'tf_bert_model_3/bert/encoder/layer_._5/attention/output/dense/kernel:0', 'tf_bert_model_3/bert/encoder/layer_._5/attention/output/dense/bias:0', 'tf_bert_model_3/bert/encoder/layer_._5/attention/output/LayerNorm/gamma:0', 'tf_bert_model_3/bert/encoder/layer_._5/attention/output/LayerNorm/beta:0', 'tf_bert_model_3/bert/encoder/layer_._5/intermediate/dense/kernel:0', 'tf_bert_model_3/bert/encoder/layer_._5/intermediate/dense/bias:0', 'tf_bert_model_3/bert/encoder/layer_._5/output/dense/kernel:0', 'tf_bert_model_3/bert/encoder/layer_._5/output/dense/bias:0', 'tf_bert_model_3/bert/encoder/layer_._5/output/LayerNorm/gamma:0', 'tf_bert_model_3/bert/encoder/layer_._5/output/LayerNorm/beta:0', 'tf_bert_model_3/bert/encoder/layer_._6/attention/self/query/kernel:0', 'tf_bert_model_3/bert/encoder/layer_._6/attention/self/query/bias:0', 'tf_bert_model_3/bert/encoder/layer_._6/attention/self/key/kernel:0', 'tf_bert_model_3/bert/encoder/layer_._6/attention/self/key/bias:0', 'tf_bert_model_3/bert/encoder/layer_._6/attention/self/value/kernel:0', 'tf_bert_model_3/bert/encoder/layer_._6/attention/self/value/bias:0', 'tf_bert_model_3/bert/encoder/layer_._6/attention/output/dense/kernel:0', 'tf_bert_model_3/bert/encoder/layer_._6/attention/output/dense/bias:0', 'tf_bert_model_3/bert/encoder/layer_._6/attention/output/LayerNorm/gamma:0', 'tf_bert_model_3/bert/encoder/layer_._6/attention/output/LayerNorm/beta:0', 'tf_bert_model_3/bert/encoder/layer_._6/intermediate/dense/kernel:0', 'tf_bert_model_3/bert/encoder/layer_._6/intermediate/dense/bias:0', 'tf_bert_model_3/bert/encoder/layer_._6/output/dense/kernel:0', 'tf_bert_model_3/bert/encoder/layer_._6/output/dense/bias:0', 'tf_bert_model_3/bert/encoder/layer_._6/output/LayerNorm/gamma:0', 'tf_bert_model_3/bert/encoder/layer_._6/output/LayerNorm/beta:0', 'tf_bert_model_3/bert/encoder/layer_._7/attention/self/query/kernel:0', 'tf_bert_model_3/bert/encoder/layer_._7/attention/self/query/bias:0', 'tf_bert_model_3/bert/encoder/layer_._7/attention/self/key/kernel:0', 'tf_bert_model_3/bert/encoder/layer_._7/attention/self/key/bias:0', 'tf_bert_model_3/bert/encoder/layer_._7/attention/self/value/kernel:0', 'tf_bert_model_3/bert/encoder/layer_._7/attention/self/value/bias:0', 'tf_bert_model_3/bert/encoder/layer_._7/attention/output/dense/kernel:0', 'tf_bert_model_3/bert/encoder/layer_._7/attention/output/dense/bias:0', 'tf_bert_model_3/bert/encoder/layer_._7/attention/output/LayerNorm/gamma:0', 'tf_bert_model_3/bert/encoder/layer_._7/attention/output/LayerNorm/beta:0', 'tf_bert_model_3/bert/encoder/layer_._7/intermediate/dense/kernel:0', 'tf_bert_model_3/bert/encoder/layer_._7/intermediate/dense/bias:0', 'tf_bert_model_3/bert/encoder/layer_._7/output/dense/kernel:0', 'tf_bert_model_3/bert/encoder/layer_._7/output/dense/bias:0', 'tf_bert_model_3/bert/encoder/layer_._7/output/LayerNorm/gamma:0', 'tf_bert_model_3/bert/encoder/layer_._7/output/LayerNorm/beta:0', 'tf_bert_model_3/bert/pooler/dense/kernel:0', 'tf_bert_model_3/bert/pooler/dense/bias:0'] when minimizing the loss. If you're using `model.compile()`, did you forget to provide a `loss`argument?\n"
     ]
    },
    {
     "name": "stdout",
     "output_type": "stream",
     "text": [
      "1706/1706 [==============================] - 4381s 3s/step - loss: 0.3052 - accuracy: 0.8687 - val_loss: 0.2302 - val_accuracy: 0.9089\n",
      "Epoch 2/10\n",
      "1706/1706 [==============================] - 5353s 3s/step - loss: 0.2067 - accuracy: 0.9186 - val_loss: 0.2287 - val_accuracy: 0.9155\n",
      "Epoch 3/10\n",
      "1706/1706 [==============================] - 5368s 3s/step - loss: 0.1522 - accuracy: 0.9433 - val_loss: 0.2146 - val_accuracy: 0.9260\n",
      "Epoch 4/10\n",
      "1706/1706 [==============================] - 5347s 3s/step - loss: 0.1171 - accuracy: 0.9567 - val_loss: 0.2227 - val_accuracy: 0.9312\n",
      "Epoch 5/10\n",
      "1706/1706 [==============================] - 8285s 5s/step - loss: 0.0928 - accuracy: 0.9658 - val_loss: 0.2450 - val_accuracy: 0.9307\n",
      "Epoch 6/10\n",
      "1706/1706 [==============================] - 5304s 3s/step - loss: 0.0785 - accuracy: 0.9717 - val_loss: 0.2110 - val_accuracy: 0.9307\n",
      "Epoch 7/10\n",
      "1706/1706 [==============================] - 5325s 3s/step - loss: 0.0668 - accuracy: 0.9762 - val_loss: 0.2751 - val_accuracy: 0.9285\n",
      "Epoch 8/10\n",
      "1706/1706 [==============================] - 5347s 3s/step - loss: 0.0579 - accuracy: 0.9790 - val_loss: 0.2688 - val_accuracy: 0.9308\n",
      "Epoch 9/10\n",
      "1706/1706 [==============================] - 5359s 3s/step - loss: 0.0539 - accuracy: 0.9804 - val_loss: 0.3271 - val_accuracy: 0.9281\n",
      "Epoch 10/10\n",
      "1706/1706 [==============================] - 5330s 3s/step - loss: 0.0474 - accuracy: 0.9835 - val_loss: 0.2971 - val_accuracy: 0.9305\n"
     ]
    }
   ],
   "source": [
    "bert_base_uncased_model = create_bert_classification_model(bert_model_uncased, train_layers=4)\n",
    "bert_base_uncased_model_history = bert_base_uncased_model.fit(\n",
    "    [x_train_uncased.input_ids, x_train_uncased.token_type_ids, x_train_uncased.attention_mask],\n",
    "    y_train,\n",
    "    validation_data=([x_test_uncased.input_ids, x_test_uncased.token_type_ids, x_test_uncased.attention_mask], y_test),\n",
    "    batch_size=32,\n",
    "    epochs=10\n",
    ") "
   ]
  },
  {
   "cell_type": "code",
   "execution_count": null,
   "metadata": {
    "scrolled": false
   },
   "outputs": [
    {
     "name": "stdout",
     "output_type": "stream",
     "text": [
      "Epoch 1/10\n",
      "WARNING:tensorflow:Gradients do not exist for variables ['tf_bert_model_1/bert/embeddings/word_embeddings/weight:0', 'tf_bert_model_1/bert/embeddings/token_type_embeddings/embeddings:0', 'tf_bert_model_1/bert/embeddings/position_embeddings/embeddings:0', 'tf_bert_model_1/bert/embeddings/LayerNorm/gamma:0', 'tf_bert_model_1/bert/embeddings/LayerNorm/beta:0', 'tf_bert_model_1/bert/encoder/layer_._0/attention/self/query/kernel:0', 'tf_bert_model_1/bert/encoder/layer_._0/attention/self/query/bias:0', 'tf_bert_model_1/bert/encoder/layer_._0/attention/self/key/kernel:0', 'tf_bert_model_1/bert/encoder/layer_._0/attention/self/key/bias:0', 'tf_bert_model_1/bert/encoder/layer_._0/attention/self/value/kernel:0', 'tf_bert_model_1/bert/encoder/layer_._0/attention/self/value/bias:0', 'tf_bert_model_1/bert/encoder/layer_._0/attention/output/dense/kernel:0', 'tf_bert_model_1/bert/encoder/layer_._0/attention/output/dense/bias:0', 'tf_bert_model_1/bert/encoder/layer_._0/attention/output/LayerNorm/gamma:0', 'tf_bert_model_1/bert/encoder/layer_._0/attention/output/LayerNorm/beta:0', 'tf_bert_model_1/bert/encoder/layer_._0/intermediate/dense/kernel:0', 'tf_bert_model_1/bert/encoder/layer_._0/intermediate/dense/bias:0', 'tf_bert_model_1/bert/encoder/layer_._0/output/dense/kernel:0', 'tf_bert_model_1/bert/encoder/layer_._0/output/dense/bias:0', 'tf_bert_model_1/bert/encoder/layer_._0/output/LayerNorm/gamma:0', 'tf_bert_model_1/bert/encoder/layer_._0/output/LayerNorm/beta:0', 'tf_bert_model_1/bert/encoder/layer_._1/attention/self/query/kernel:0', 'tf_bert_model_1/bert/encoder/layer_._1/attention/self/query/bias:0', 'tf_bert_model_1/bert/encoder/layer_._1/attention/self/key/kernel:0', 'tf_bert_model_1/bert/encoder/layer_._1/attention/self/key/bias:0', 'tf_bert_model_1/bert/encoder/layer_._1/attention/self/value/kernel:0', 'tf_bert_model_1/bert/encoder/layer_._1/attention/self/value/bias:0', 'tf_bert_model_1/bert/encoder/layer_._1/attention/output/dense/kernel:0', 'tf_bert_model_1/bert/encoder/layer_._1/attention/output/dense/bias:0', 'tf_bert_model_1/bert/encoder/layer_._1/attention/output/LayerNorm/gamma:0', 'tf_bert_model_1/bert/encoder/layer_._1/attention/output/LayerNorm/beta:0', 'tf_bert_model_1/bert/encoder/layer_._1/intermediate/dense/kernel:0', 'tf_bert_model_1/bert/encoder/layer_._1/intermediate/dense/bias:0', 'tf_bert_model_1/bert/encoder/layer_._1/output/dense/kernel:0', 'tf_bert_model_1/bert/encoder/layer_._1/output/dense/bias:0', 'tf_bert_model_1/bert/encoder/layer_._1/output/LayerNorm/gamma:0', 'tf_bert_model_1/bert/encoder/layer_._1/output/LayerNorm/beta:0', 'tf_bert_model_1/bert/encoder/layer_._2/attention/self/query/kernel:0', 'tf_bert_model_1/bert/encoder/layer_._2/attention/self/query/bias:0', 'tf_bert_model_1/bert/encoder/layer_._2/attention/self/key/kernel:0', 'tf_bert_model_1/bert/encoder/layer_._2/attention/self/key/bias:0', 'tf_bert_model_1/bert/encoder/layer_._2/attention/self/value/kernel:0', 'tf_bert_model_1/bert/encoder/layer_._2/attention/self/value/bias:0', 'tf_bert_model_1/bert/encoder/layer_._2/attention/output/dense/kernel:0', 'tf_bert_model_1/bert/encoder/layer_._2/attention/output/dense/bias:0', 'tf_bert_model_1/bert/encoder/layer_._2/attention/output/LayerNorm/gamma:0', 'tf_bert_model_1/bert/encoder/layer_._2/attention/output/LayerNorm/beta:0', 'tf_bert_model_1/bert/encoder/layer_._2/intermediate/dense/kernel:0', 'tf_bert_model_1/bert/encoder/layer_._2/intermediate/dense/bias:0', 'tf_bert_model_1/bert/encoder/layer_._2/output/dense/kernel:0', 'tf_bert_model_1/bert/encoder/layer_._2/output/dense/bias:0', 'tf_bert_model_1/bert/encoder/layer_._2/output/LayerNorm/gamma:0', 'tf_bert_model_1/bert/encoder/layer_._2/output/LayerNorm/beta:0', 'tf_bert_model_1/bert/encoder/layer_._3/attention/self/query/kernel:0', 'tf_bert_model_1/bert/encoder/layer_._3/attention/self/query/bias:0', 'tf_bert_model_1/bert/encoder/layer_._3/attention/self/key/kernel:0', 'tf_bert_model_1/bert/encoder/layer_._3/attention/self/key/bias:0', 'tf_bert_model_1/bert/encoder/layer_._3/attention/self/value/kernel:0', 'tf_bert_model_1/bert/encoder/layer_._3/attention/self/value/bias:0', 'tf_bert_model_1/bert/encoder/layer_._3/attention/output/dense/kernel:0', 'tf_bert_model_1/bert/encoder/layer_._3/attention/output/dense/bias:0', 'tf_bert_model_1/bert/encoder/layer_._3/attention/output/LayerNorm/gamma:0', 'tf_bert_model_1/bert/encoder/layer_._3/attention/output/LayerNorm/beta:0', 'tf_bert_model_1/bert/encoder/layer_._3/intermediate/dense/kernel:0', 'tf_bert_model_1/bert/encoder/layer_._3/intermediate/dense/bias:0', 'tf_bert_model_1/bert/encoder/layer_._3/output/dense/kernel:0', 'tf_bert_model_1/bert/encoder/layer_._3/output/dense/bias:0', 'tf_bert_model_1/bert/encoder/layer_._3/output/LayerNorm/gamma:0', 'tf_bert_model_1/bert/encoder/layer_._3/output/LayerNorm/beta:0', 'tf_bert_model_1/bert/encoder/layer_._4/attention/self/query/kernel:0', 'tf_bert_model_1/bert/encoder/layer_._4/attention/self/query/bias:0', 'tf_bert_model_1/bert/encoder/layer_._4/attention/self/key/kernel:0', 'tf_bert_model_1/bert/encoder/layer_._4/attention/self/key/bias:0', 'tf_bert_model_1/bert/encoder/layer_._4/attention/self/value/kernel:0', 'tf_bert_model_1/bert/encoder/layer_._4/attention/self/value/bias:0', 'tf_bert_model_1/bert/encoder/layer_._4/attention/output/dense/kernel:0', 'tf_bert_model_1/bert/encoder/layer_._4/attention/output/dense/bias:0', 'tf_bert_model_1/bert/encoder/layer_._4/attention/output/LayerNorm/gamma:0', 'tf_bert_model_1/bert/encoder/layer_._4/attention/output/LayerNorm/beta:0', 'tf_bert_model_1/bert/encoder/layer_._4/intermediate/dense/kernel:0', 'tf_bert_model_1/bert/encoder/layer_._4/intermediate/dense/bias:0', 'tf_bert_model_1/bert/encoder/layer_._4/output/dense/kernel:0', 'tf_bert_model_1/bert/encoder/layer_._4/output/dense/bias:0', 'tf_bert_model_1/bert/encoder/layer_._4/output/LayerNorm/gamma:0', 'tf_bert_model_1/bert/encoder/layer_._4/output/LayerNorm/beta:0', 'tf_bert_model_1/bert/encoder/layer_._5/attention/self/query/kernel:0', 'tf_bert_model_1/bert/encoder/layer_._5/attention/self/query/bias:0', 'tf_bert_model_1/bert/encoder/layer_._5/attention/self/key/kernel:0', 'tf_bert_model_1/bert/encoder/layer_._5/attention/self/key/bias:0', 'tf_bert_model_1/bert/encoder/layer_._5/attention/self/value/kernel:0', 'tf_bert_model_1/bert/encoder/layer_._5/attention/self/value/bias:0', 'tf_bert_model_1/bert/encoder/layer_._5/attention/output/dense/kernel:0', 'tf_bert_model_1/bert/encoder/layer_._5/attention/output/dense/bias:0', 'tf_bert_model_1/bert/encoder/layer_._5/attention/output/LayerNorm/gamma:0', 'tf_bert_model_1/bert/encoder/layer_._5/attention/output/LayerNorm/beta:0', 'tf_bert_model_1/bert/encoder/layer_._5/intermediate/dense/kernel:0', 'tf_bert_model_1/bert/encoder/layer_._5/intermediate/dense/bias:0', 'tf_bert_model_1/bert/encoder/layer_._5/output/dense/kernel:0', 'tf_bert_model_1/bert/encoder/layer_._5/output/dense/bias:0', 'tf_bert_model_1/bert/encoder/layer_._5/output/LayerNorm/gamma:0', 'tf_bert_model_1/bert/encoder/layer_._5/output/LayerNorm/beta:0', 'tf_bert_model_1/bert/encoder/layer_._6/attention/self/query/kernel:0', 'tf_bert_model_1/bert/encoder/layer_._6/attention/self/query/bias:0', 'tf_bert_model_1/bert/encoder/layer_._6/attention/self/key/kernel:0', 'tf_bert_model_1/bert/encoder/layer_._6/attention/self/key/bias:0', 'tf_bert_model_1/bert/encoder/layer_._6/attention/self/value/kernel:0', 'tf_bert_model_1/bert/encoder/layer_._6/attention/self/value/bias:0', 'tf_bert_model_1/bert/encoder/layer_._6/attention/output/dense/kernel:0', 'tf_bert_model_1/bert/encoder/layer_._6/attention/output/dense/bias:0', 'tf_bert_model_1/bert/encoder/layer_._6/attention/output/LayerNorm/gamma:0', 'tf_bert_model_1/bert/encoder/layer_._6/attention/output/LayerNorm/beta:0', 'tf_bert_model_1/bert/encoder/layer_._6/intermediate/dense/kernel:0', 'tf_bert_model_1/bert/encoder/layer_._6/intermediate/dense/bias:0', 'tf_bert_model_1/bert/encoder/layer_._6/output/dense/kernel:0', 'tf_bert_model_1/bert/encoder/layer_._6/output/dense/bias:0', 'tf_bert_model_1/bert/encoder/layer_._6/output/LayerNorm/gamma:0', 'tf_bert_model_1/bert/encoder/layer_._6/output/LayerNorm/beta:0', 'tf_bert_model_1/bert/encoder/layer_._7/attention/self/query/kernel:0', 'tf_bert_model_1/bert/encoder/layer_._7/attention/self/query/bias:0', 'tf_bert_model_1/bert/encoder/layer_._7/attention/self/key/kernel:0', 'tf_bert_model_1/bert/encoder/layer_._7/attention/self/key/bias:0', 'tf_bert_model_1/bert/encoder/layer_._7/attention/self/value/kernel:0', 'tf_bert_model_1/bert/encoder/layer_._7/attention/self/value/bias:0', 'tf_bert_model_1/bert/encoder/layer_._7/attention/output/dense/kernel:0', 'tf_bert_model_1/bert/encoder/layer_._7/attention/output/dense/bias:0', 'tf_bert_model_1/bert/encoder/layer_._7/attention/output/LayerNorm/gamma:0', 'tf_bert_model_1/bert/encoder/layer_._7/attention/output/LayerNorm/beta:0', 'tf_bert_model_1/bert/encoder/layer_._7/intermediate/dense/kernel:0', 'tf_bert_model_1/bert/encoder/layer_._7/intermediate/dense/bias:0', 'tf_bert_model_1/bert/encoder/layer_._7/output/dense/kernel:0', 'tf_bert_model_1/bert/encoder/layer_._7/output/dense/bias:0', 'tf_bert_model_1/bert/encoder/layer_._7/output/LayerNorm/gamma:0', 'tf_bert_model_1/bert/encoder/layer_._7/output/LayerNorm/beta:0', 'tf_bert_model_1/bert/pooler/dense/kernel:0', 'tf_bert_model_1/bert/pooler/dense/bias:0'] when minimizing the loss. If you're using `model.compile()`, did you forget to provide a `loss`argument?\n"
     ]
    },
    {
     "name": "stdout",
     "output_type": "stream",
     "text": [
      "WARNING:tensorflow:Gradients do not exist for variables ['tf_bert_model_1/bert/embeddings/word_embeddings/weight:0', 'tf_bert_model_1/bert/embeddings/token_type_embeddings/embeddings:0', 'tf_bert_model_1/bert/embeddings/position_embeddings/embeddings:0', 'tf_bert_model_1/bert/embeddings/LayerNorm/gamma:0', 'tf_bert_model_1/bert/embeddings/LayerNorm/beta:0', 'tf_bert_model_1/bert/encoder/layer_._0/attention/self/query/kernel:0', 'tf_bert_model_1/bert/encoder/layer_._0/attention/self/query/bias:0', 'tf_bert_model_1/bert/encoder/layer_._0/attention/self/key/kernel:0', 'tf_bert_model_1/bert/encoder/layer_._0/attention/self/key/bias:0', 'tf_bert_model_1/bert/encoder/layer_._0/attention/self/value/kernel:0', 'tf_bert_model_1/bert/encoder/layer_._0/attention/self/value/bias:0', 'tf_bert_model_1/bert/encoder/layer_._0/attention/output/dense/kernel:0', 'tf_bert_model_1/bert/encoder/layer_._0/attention/output/dense/bias:0', 'tf_bert_model_1/bert/encoder/layer_._0/attention/output/LayerNorm/gamma:0', 'tf_bert_model_1/bert/encoder/layer_._0/attention/output/LayerNorm/beta:0', 'tf_bert_model_1/bert/encoder/layer_._0/intermediate/dense/kernel:0', 'tf_bert_model_1/bert/encoder/layer_._0/intermediate/dense/bias:0', 'tf_bert_model_1/bert/encoder/layer_._0/output/dense/kernel:0', 'tf_bert_model_1/bert/encoder/layer_._0/output/dense/bias:0', 'tf_bert_model_1/bert/encoder/layer_._0/output/LayerNorm/gamma:0', 'tf_bert_model_1/bert/encoder/layer_._0/output/LayerNorm/beta:0', 'tf_bert_model_1/bert/encoder/layer_._1/attention/self/query/kernel:0', 'tf_bert_model_1/bert/encoder/layer_._1/attention/self/query/bias:0', 'tf_bert_model_1/bert/encoder/layer_._1/attention/self/key/kernel:0', 'tf_bert_model_1/bert/encoder/layer_._1/attention/self/key/bias:0', 'tf_bert_model_1/bert/encoder/layer_._1/attention/self/value/kernel:0', 'tf_bert_model_1/bert/encoder/layer_._1/attention/self/value/bias:0', 'tf_bert_model_1/bert/encoder/layer_._1/attention/output/dense/kernel:0', 'tf_bert_model_1/bert/encoder/layer_._1/attention/output/dense/bias:0', 'tf_bert_model_1/bert/encoder/layer_._1/attention/output/LayerNorm/gamma:0', 'tf_bert_model_1/bert/encoder/layer_._1/attention/output/LayerNorm/beta:0', 'tf_bert_model_1/bert/encoder/layer_._1/intermediate/dense/kernel:0', 'tf_bert_model_1/bert/encoder/layer_._1/intermediate/dense/bias:0', 'tf_bert_model_1/bert/encoder/layer_._1/output/dense/kernel:0', 'tf_bert_model_1/bert/encoder/layer_._1/output/dense/bias:0', 'tf_bert_model_1/bert/encoder/layer_._1/output/LayerNorm/gamma:0', 'tf_bert_model_1/bert/encoder/layer_._1/output/LayerNorm/beta:0', 'tf_bert_model_1/bert/encoder/layer_._2/attention/self/query/kernel:0', 'tf_bert_model_1/bert/encoder/layer_._2/attention/self/query/bias:0', 'tf_bert_model_1/bert/encoder/layer_._2/attention/self/key/kernel:0', 'tf_bert_model_1/bert/encoder/layer_._2/attention/self/key/bias:0', 'tf_bert_model_1/bert/encoder/layer_._2/attention/self/value/kernel:0', 'tf_bert_model_1/bert/encoder/layer_._2/attention/self/value/bias:0', 'tf_bert_model_1/bert/encoder/layer_._2/attention/output/dense/kernel:0', 'tf_bert_model_1/bert/encoder/layer_._2/attention/output/dense/bias:0', 'tf_bert_model_1/bert/encoder/layer_._2/attention/output/LayerNorm/gamma:0', 'tf_bert_model_1/bert/encoder/layer_._2/attention/output/LayerNorm/beta:0', 'tf_bert_model_1/bert/encoder/layer_._2/intermediate/dense/kernel:0', 'tf_bert_model_1/bert/encoder/layer_._2/intermediate/dense/bias:0', 'tf_bert_model_1/bert/encoder/layer_._2/output/dense/kernel:0', 'tf_bert_model_1/bert/encoder/layer_._2/output/dense/bias:0', 'tf_bert_model_1/bert/encoder/layer_._2/output/LayerNorm/gamma:0', 'tf_bert_model_1/bert/encoder/layer_._2/output/LayerNorm/beta:0', 'tf_bert_model_1/bert/encoder/layer_._3/attention/self/query/kernel:0', 'tf_bert_model_1/bert/encoder/layer_._3/attention/self/query/bias:0', 'tf_bert_model_1/bert/encoder/layer_._3/attention/self/key/kernel:0', 'tf_bert_model_1/bert/encoder/layer_._3/attention/self/key/bias:0', 'tf_bert_model_1/bert/encoder/layer_._3/attention/self/value/kernel:0', 'tf_bert_model_1/bert/encoder/layer_._3/attention/self/value/bias:0', 'tf_bert_model_1/bert/encoder/layer_._3/attention/output/dense/kernel:0', 'tf_bert_model_1/bert/encoder/layer_._3/attention/output/dense/bias:0', 'tf_bert_model_1/bert/encoder/layer_._3/attention/output/LayerNorm/gamma:0', 'tf_bert_model_1/bert/encoder/layer_._3/attention/output/LayerNorm/beta:0', 'tf_bert_model_1/bert/encoder/layer_._3/intermediate/dense/kernel:0', 'tf_bert_model_1/bert/encoder/layer_._3/intermediate/dense/bias:0', 'tf_bert_model_1/bert/encoder/layer_._3/output/dense/kernel:0', 'tf_bert_model_1/bert/encoder/layer_._3/output/dense/bias:0', 'tf_bert_model_1/bert/encoder/layer_._3/output/LayerNorm/gamma:0', 'tf_bert_model_1/bert/encoder/layer_._3/output/LayerNorm/beta:0', 'tf_bert_model_1/bert/encoder/layer_._4/attention/self/query/kernel:0', 'tf_bert_model_1/bert/encoder/layer_._4/attention/self/query/bias:0', 'tf_bert_model_1/bert/encoder/layer_._4/attention/self/key/kernel:0', 'tf_bert_model_1/bert/encoder/layer_._4/attention/self/key/bias:0', 'tf_bert_model_1/bert/encoder/layer_._4/attention/self/value/kernel:0', 'tf_bert_model_1/bert/encoder/layer_._4/attention/self/value/bias:0', 'tf_bert_model_1/bert/encoder/layer_._4/attention/output/dense/kernel:0', 'tf_bert_model_1/bert/encoder/layer_._4/attention/output/dense/bias:0', 'tf_bert_model_1/bert/encoder/layer_._4/attention/output/LayerNorm/gamma:0', 'tf_bert_model_1/bert/encoder/layer_._4/attention/output/LayerNorm/beta:0', 'tf_bert_model_1/bert/encoder/layer_._4/intermediate/dense/kernel:0', 'tf_bert_model_1/bert/encoder/layer_._4/intermediate/dense/bias:0', 'tf_bert_model_1/bert/encoder/layer_._4/output/dense/kernel:0', 'tf_bert_model_1/bert/encoder/layer_._4/output/dense/bias:0', 'tf_bert_model_1/bert/encoder/layer_._4/output/LayerNorm/gamma:0', 'tf_bert_model_1/bert/encoder/layer_._4/output/LayerNorm/beta:0', 'tf_bert_model_1/bert/encoder/layer_._5/attention/self/query/kernel:0', 'tf_bert_model_1/bert/encoder/layer_._5/attention/self/query/bias:0', 'tf_bert_model_1/bert/encoder/layer_._5/attention/self/key/kernel:0', 'tf_bert_model_1/bert/encoder/layer_._5/attention/self/key/bias:0', 'tf_bert_model_1/bert/encoder/layer_._5/attention/self/value/kernel:0', 'tf_bert_model_1/bert/encoder/layer_._5/attention/self/value/bias:0', 'tf_bert_model_1/bert/encoder/layer_._5/attention/output/dense/kernel:0', 'tf_bert_model_1/bert/encoder/layer_._5/attention/output/dense/bias:0', 'tf_bert_model_1/bert/encoder/layer_._5/attention/output/LayerNorm/gamma:0', 'tf_bert_model_1/bert/encoder/layer_._5/attention/output/LayerNorm/beta:0', 'tf_bert_model_1/bert/encoder/layer_._5/intermediate/dense/kernel:0', 'tf_bert_model_1/bert/encoder/layer_._5/intermediate/dense/bias:0', 'tf_bert_model_1/bert/encoder/layer_._5/output/dense/kernel:0', 'tf_bert_model_1/bert/encoder/layer_._5/output/dense/bias:0', 'tf_bert_model_1/bert/encoder/layer_._5/output/LayerNorm/gamma:0', 'tf_bert_model_1/bert/encoder/layer_._5/output/LayerNorm/beta:0', 'tf_bert_model_1/bert/encoder/layer_._6/attention/self/query/kernel:0', 'tf_bert_model_1/bert/encoder/layer_._6/attention/self/query/bias:0', 'tf_bert_model_1/bert/encoder/layer_._6/attention/self/key/kernel:0', 'tf_bert_model_1/bert/encoder/layer_._6/attention/self/key/bias:0', 'tf_bert_model_1/bert/encoder/layer_._6/attention/self/value/kernel:0', 'tf_bert_model_1/bert/encoder/layer_._6/attention/self/value/bias:0', 'tf_bert_model_1/bert/encoder/layer_._6/attention/output/dense/kernel:0', 'tf_bert_model_1/bert/encoder/layer_._6/attention/output/dense/bias:0', 'tf_bert_model_1/bert/encoder/layer_._6/attention/output/LayerNorm/gamma:0', 'tf_bert_model_1/bert/encoder/layer_._6/attention/output/LayerNorm/beta:0', 'tf_bert_model_1/bert/encoder/layer_._6/intermediate/dense/kernel:0', 'tf_bert_model_1/bert/encoder/layer_._6/intermediate/dense/bias:0', 'tf_bert_model_1/bert/encoder/layer_._6/output/dense/kernel:0', 'tf_bert_model_1/bert/encoder/layer_._6/output/dense/bias:0', 'tf_bert_model_1/bert/encoder/layer_._6/output/LayerNorm/gamma:0', 'tf_bert_model_1/bert/encoder/layer_._6/output/LayerNorm/beta:0', 'tf_bert_model_1/bert/encoder/layer_._7/attention/self/query/kernel:0', 'tf_bert_model_1/bert/encoder/layer_._7/attention/self/query/bias:0', 'tf_bert_model_1/bert/encoder/layer_._7/attention/self/key/kernel:0', 'tf_bert_model_1/bert/encoder/layer_._7/attention/self/key/bias:0', 'tf_bert_model_1/bert/encoder/layer_._7/attention/self/value/kernel:0', 'tf_bert_model_1/bert/encoder/layer_._7/attention/self/value/bias:0', 'tf_bert_model_1/bert/encoder/layer_._7/attention/output/dense/kernel:0', 'tf_bert_model_1/bert/encoder/layer_._7/attention/output/dense/bias:0', 'tf_bert_model_1/bert/encoder/layer_._7/attention/output/LayerNorm/gamma:0', 'tf_bert_model_1/bert/encoder/layer_._7/attention/output/LayerNorm/beta:0', 'tf_bert_model_1/bert/encoder/layer_._7/intermediate/dense/kernel:0', 'tf_bert_model_1/bert/encoder/layer_._7/intermediate/dense/bias:0', 'tf_bert_model_1/bert/encoder/layer_._7/output/dense/kernel:0', 'tf_bert_model_1/bert/encoder/layer_._7/output/dense/bias:0', 'tf_bert_model_1/bert/encoder/layer_._7/output/LayerNorm/gamma:0', 'tf_bert_model_1/bert/encoder/layer_._7/output/LayerNorm/beta:0', 'tf_bert_model_1/bert/pooler/dense/kernel:0', 'tf_bert_model_1/bert/pooler/dense/bias:0'] when minimizing the loss. If you're using `model.compile()`, did you forget to provide a `loss`argument?\n"
     ]
    },
    {
     "name": "stdout",
     "output_type": "stream",
     "text": [
      "1706/1706 [==============================] - 4658s 3s/step - loss: 0.2910 - accuracy: 0.8758 - val_loss: 0.2069 - val_accuracy: 0.9189\n",
      "Epoch 2/10\n",
      "1706/1706 [==============================] - 4924s 3s/step - loss: 0.1960 - accuracy: 0.9233 - val_loss: 0.1980 - val_accuracy: 0.9248\n",
      "Epoch 3/10\n",
      "1706/1706 [==============================] - 4519s 3s/step - loss: 0.1457 - accuracy: 0.9446 - val_loss: 0.2120 - val_accuracy: 0.9271\n",
      "Epoch 4/10\n",
      "1706/1706 [==============================] - 4538s 3s/step - loss: 0.1143 - accuracy: 0.9567 - val_loss: 0.1978 - val_accuracy: 0.9307\n",
      "Epoch 5/10\n",
      "1706/1706 [==============================] - 4572s 3s/step - loss: 0.0901 - accuracy: 0.9662 - val_loss: 0.2271 - val_accuracy: 0.9365\n",
      "Epoch 6/10\n",
      "1706/1706 [==============================] - 4982s 3s/step - loss: 0.0763 - accuracy: 0.9719 - val_loss: 0.2270 - val_accuracy: 0.9359\n",
      "Epoch 7/10\n",
      "1706/1706 [==============================] - 4902s 3s/step - loss: 0.0663 - accuracy: 0.9754 - val_loss: 0.2655 - val_accuracy: 0.9346\n",
      "Epoch 8/10\n",
      "1706/1706 [==============================] - 4895s 3s/step - loss: 0.0583 - accuracy: 0.9787 - val_loss: 0.2588 - val_accuracy: 0.9365\n",
      "Epoch 9/10\n",
      "1706/1706 [==============================] - 4712s 3s/step - loss: 0.0509 - accuracy: 0.9811 - val_loss: 0.2430 - val_accuracy: 0.9336\n",
      "Epoch 10/10\n",
      " 162/1706 [=>............................] - ETA: 1:03:53 - loss: 0.0422 - accuracy: 0.9853"
     ]
    }
   ],
   "source": [
    "bert_base_model = create_bert_classification_model(bert_model, train_layers=4)\n",
    "bert_base_model_history = bert_base_model.fit(\n",
    "    [x_train.input_ids, x_train.token_type_ids, x_train.attention_mask],\n",
    "    y_train,\n",
    "    validation_data=([x_test.input_ids, x_test.token_type_ids, x_test.attention_mask], y_test),\n",
    "    batch_size=32,\n",
    "    epochs=10\n",
    ") \n",
    "# eta 0.05, val accuracy 0.7630 (train accuracy 0.7470)"
   ]
  },
  {
   "cell_type": "markdown",
   "metadata": {
    "id": "KBOvsTBwm_Vi"
   },
   "source": [
    "### 2.5 Experiment 3 - pooled-token vs simple average"
   ]
  },
  {
   "cell_type": "code",
   "execution_count": null,
   "metadata": {
    "id": "sB2WKwLTk4LY"
   },
   "outputs": [],
   "source": [
    "def create_bert_avg_model(bert_model,\n",
    "                          hidden_size = 100, \n",
    "                          dropout=0.3,\n",
    "                          learning_rate=0.00005):\n",
    "    \"\"\"\n",
    "    Build a simple classification model with BERT. Use the average of the BERT output tokens\n",
    "    \"\"\"\n",
    "\n",
    "    ### YOUR CODE HERE\n",
    "    input_ids = tf.keras.layers.Input(shape=(max_length,), dtype=tf.int64, name='input_ids_layer')   \n",
    "    token_type_ids = tf.keras.layers.Input(shape=(max_length,), dtype=tf.int64, name='token_type_ids_layer')\n",
    "    attention_mask = tf.keras.layers.Input(shape=(max_length,), dtype=tf.int64, name='attention_mask_layer')\n",
    "\n",
    "    bert_inputs = {'input_ids': input_ids,\n",
    "                   'token_type_ids': token_type_ids,\n",
    "                   'attention_mask': attention_mask}       \n",
    "\n",
    "    bert_out = bert_model(bert_inputs)\n",
    "    \n",
    "    avg_token = tf.math.reduce_mean(bert_out[0],1)\n",
    "\n",
    "    hidden = tf.keras.layers.Dense(hidden_size, activation='relu', name='hidden_layer')(avg_token)\n",
    "\n",
    "    hidden = tf.keras.layers.Dropout(dropout)(hidden)  \n",
    "\n",
    "    classification = tf.keras.layers.Dense(1, activation='sigmoid',name='classification_layer')(hidden)\n",
    "    \n",
    "    classification_model = tf.keras.Model(inputs=[input_ids, token_type_ids, attention_mask], outputs=[classification])\n",
    "    \n",
    "    classification_model.compile(optimizer=tf.keras.optimizers.Adam(learning_rate=learning_rate),\n",
    "                                 loss=tf.keras.losses.BinaryCrossentropy(from_logits=False), \n",
    "                                 metrics='accuracy')\n",
    "    \n",
    "    ### END YOUR CODE\n",
    "\n",
    "    return classification_model"
   ]
  },
  {
   "cell_type": "code",
   "execution_count": null,
   "metadata": {
    "colab": {
     "base_uri": "https://localhost:8080/"
    },
    "id": "AtS29uRbk4Os",
    "outputId": "56745190-55f2-4dec-b55f-b86465a5938e"
   },
   "outputs": [],
   "source": [
    "bert_avg_model = create_bert_avg_model(bert_model)\n",
    "\n",
    "bert_avg_history = bert_avg_model.fit(\n",
    "    [x_train.input_ids, x_train.token_type_ids, x_train.attention_mask],\n",
    "    y_train,\n",
    "    validation_data=([x_test.input_ids, x_test.token_type_ids, x_test.attention_mask], y_test),\n",
    "    batch_size=32,\n",
    "    epochs=10)"
   ]
  },
  {
   "cell_type": "markdown",
   "metadata": {},
   "source": [
    "### 2.6 Experiment 4 - pooled-token vs CLS-token"
   ]
  },
  {
   "cell_type": "code",
   "execution_count": 12,
   "metadata": {
    "id": "V1OAGPTNgPr6"
   },
   "outputs": [],
   "source": [
    "def create_bert_cls_model(bert_model,\n",
    "                          hidden_size = 100, \n",
    "                          dropout=0.3,\n",
    "                          learning_rate=0.00005):\n",
    "    \"\"\"\n",
    "    Build a simple classification model with BERT. Use the CLS Token output for classification purposes.\n",
    "    \"\"\"\n",
    "\n",
    "    input_ids = tf.keras.layers.Input(shape=(max_length,), dtype=tf.int64, name='input_ids_layer')\n",
    "    token_type_ids = tf.keras.layers.Input(shape=(max_length,), dtype=tf.int64, name='token_type_ids_layer')\n",
    "    attention_mask = tf.keras.layers.Input(shape=(max_length,), dtype=tf.int64, name='attention_mask_layer')\n",
    "\n",
    "    bert_inputs = {'input_ids': input_ids,\n",
    "                   'token_type_ids': token_type_ids,\n",
    "                   'attention_mask': attention_mask}      \n",
    "\n",
    "    bert_out = bert_model(bert_inputs)\n",
    "\n",
    "    cls_token = bert_out[0][:, 0, :]\n",
    "\n",
    "    hidden = tf.keras.layers.Dense(hidden_size, activation='relu', name='hidden_layer')(cls_token)\n",
    "\n",
    "\n",
    "    hidden = tf.keras.layers.Dropout(dropout)(hidden)  \n",
    "\n",
    "\n",
    "    classification = tf.keras.layers.Dense(1, activation='sigmoid',name='classification_layer')(hidden)\n",
    "    \n",
    "    classification_model = tf.keras.Model(inputs=[input_ids, token_type_ids, attention_mask], outputs=[classification])\n",
    "    \n",
    "    classification_model.compile(optimizer=tf.keras.optimizers.Adam(learning_rate=learning_rate),\n",
    "                                 loss=tf.keras.losses.BinaryCrossentropy(from_logits=False), \n",
    "                                 metrics='accuracy')\n",
    "    \n",
    "    return classification_model"
   ]
  },
  {
   "cell_type": "code",
   "execution_count": 13,
   "metadata": {
    "colab": {
     "base_uri": "https://localhost:8080/"
    },
    "id": "hIXDr8OdiSyv",
    "outputId": "c18e069f-5601-4633-e0c0-f30d76d3f4dd"
   },
   "outputs": [
    {
     "name": "stdout",
     "output_type": "stream",
     "text": [
      "Epoch 1/10\n"
     ]
    },
    {
     "name": "stderr",
     "output_type": "stream",
     "text": [
      "WARNING:tensorflow:Gradients do not exist for variables ['tf_bert_model/bert/pooler/dense/kernel:0', 'tf_bert_model/bert/pooler/dense/bias:0'] when minimizing the loss. If you're using `model.compile()`, did you forget to provide a `loss`argument?\n",
      "WARNING:tensorflow:Gradients do not exist for variables ['tf_bert_model/bert/pooler/dense/kernel:0', 'tf_bert_model/bert/pooler/dense/bias:0'] when minimizing the loss. If you're using `model.compile()`, did you forget to provide a `loss`argument?\n"
     ]
    },
    {
     "name": "stdout",
     "output_type": "stream",
     "text": [
      "1706/1706 [==============================] - 424s 230ms/step - loss: 0.2352 - accuracy: 0.9082 - val_loss: 0.1915 - val_accuracy: 0.9326\n",
      "Epoch 2/10\n",
      "1706/1706 [==============================] - 389s 228ms/step - loss: 0.1258 - accuracy: 0.9560 - val_loss: 0.2070 - val_accuracy: 0.9324\n",
      "Epoch 3/10\n",
      "1706/1706 [==============================] - 391s 229ms/step - loss: 0.0885 - accuracy: 0.9699 - val_loss: 0.2115 - val_accuracy: 0.9358\n",
      "Epoch 4/10\n",
      "1706/1706 [==============================] - 388s 228ms/step - loss: 0.0692 - accuracy: 0.9760 - val_loss: 0.2835 - val_accuracy: 0.9359\n",
      "Epoch 5/10\n",
      "1706/1706 [==============================] - 388s 228ms/step - loss: 0.0535 - accuracy: 0.9815 - val_loss: 0.3067 - val_accuracy: 0.9351\n",
      "Epoch 6/10\n",
      "1706/1706 [==============================] - 389s 228ms/step - loss: 0.0467 - accuracy: 0.9838 - val_loss: 0.3553 - val_accuracy: 0.9341\n",
      "Epoch 7/10\n",
      "1706/1706 [==============================] - 387s 227ms/step - loss: 0.0410 - accuracy: 0.9855 - val_loss: 0.2834 - val_accuracy: 0.9343\n",
      "Epoch 8/10\n",
      "1706/1706 [==============================] - 388s 227ms/step - loss: 0.0375 - accuracy: 0.9867 - val_loss: 0.3919 - val_accuracy: 0.9302\n",
      "Epoch 9/10\n",
      "1706/1706 [==============================] - 387s 227ms/step - loss: 0.0347 - accuracy: 0.9880 - val_loss: 0.3852 - val_accuracy: 0.9314\n",
      "Epoch 10/10\n",
      "1706/1706 [==============================] - 388s 228ms/step - loss: 0.0308 - accuracy: 0.9893 - val_loss: 0.3506 - val_accuracy: 0.9307\n"
     ]
    }
   ],
   "source": [
    "bert_cls_model = create_bert_cls_model(bert_model)\n",
    "\n",
    "bert_cls_history = bert_cls_model.fit(\n",
    "    [x_train.input_ids, x_train.token_type_ids, x_train.attention_mask],\n",
    "    y_train,\n",
    "    validation_data=([x_test.input_ids, x_test.token_type_ids, x_test.attention_mask], y_test),\n",
    "    batch_size=32,\n",
    "    epochs=10)\n",
    "\n",
    "# eta 0.05, val accuracy 0.8252 (train accuracy 0.6488)"
   ]
  },
  {
   "cell_type": "markdown",
   "metadata": {
    "id": "jpVZXfOAt0UC"
   },
   "source": [
    "### 2.7 Experiment 5 - BERT-CNN vs BERT-LSTM"
   ]
  },
  {
   "cell_type": "code",
   "execution_count": 13,
   "metadata": {
    "id": "6IJoPmcHk4UO"
   },
   "outputs": [],
   "source": [
    "def create_bert_cnn_model(bert_model,\n",
    "                          hidden_size = 100, \n",
    "                          learning_rate=0.00005,\n",
    "                          num_filters = [100, 100, 50, 25],\n",
    "                          kernel_sizes = [3, 5, 10, 20],\n",
    "                          dropout = 0.3):\n",
    "    \"\"\"\n",
    "    Build a  classification model with BERT, where you apply CNN layers to the BERT output\n",
    "    \"\"\"\n",
    "\n",
    "    input_ids = tf.keras.layers.Input(shape=(max_length,), dtype=tf.int64, name='input_ids_layer')   \n",
    "    token_type_ids = tf.keras.layers.Input(shape=(max_length,), dtype=tf.int64, name='token_type_ids_layer')\n",
    "    attention_mask = tf.keras.layers.Input(shape=(max_length,), dtype=tf.int64, name='attention_mask_layer')\n",
    "\n",
    "    bert_inputs = {'input_ids': input_ids,\n",
    "                   'token_type_ids': token_type_ids,\n",
    "                   'attention_mask': attention_mask}       \n",
    "\n",
    "    bert_out = bert_model(bert_inputs)[0]\n",
    "\n",
    "    conv_layers_for_all_kernel_sizes = []\n",
    "    for kernel_size, filters in zip(kernel_sizes, num_filters):\n",
    "        conv_layer = keras.layers.Conv1D(filters=filters, kernel_size=kernel_size, activation='relu')(bert_out)\n",
    "        conv_layer = keras.layers.GlobalMaxPooling1D()(conv_layer)\n",
    "        conv_layers_for_all_kernel_sizes.append(conv_layer)\n",
    "    \n",
    "    conv_output = keras.layers.concatenate(conv_layers_for_all_kernel_sizes, axis=1)\n",
    "    last_hidden_output = keras.layers.Dropout(rate=dropout)(conv_output)\n",
    "\n",
    "    last_hidden_output = keras.layers.Dense(hidden_size, activation='relu')(last_hidden_output)\n",
    "\n",
    "    classification = tf.keras.layers.Dense(1, activation='sigmoid',name='classification_layer')(last_hidden_output)\n",
    "    \n",
    "    classification_model = tf.keras.Model(inputs=[input_ids, token_type_ids, attention_mask], outputs=[classification])\n",
    "    \n",
    "    classification_model.compile(optimizer=tf.keras.optimizers.Adam(learning_rate=learning_rate),\n",
    "                                 loss=tf.keras.losses.BinaryCrossentropy(from_logits=False), \n",
    "                                 metrics='accuracy')\n",
    "    \n",
    "    return classification_model"
   ]
  },
  {
   "cell_type": "code",
   "execution_count": 16,
   "metadata": {
    "id": "gobUGAVFk4XG"
   },
   "outputs": [
    {
     "name": "stdout",
     "output_type": "stream",
     "text": [
      "Epoch 1/10\n",
      "WARNING:tensorflow:Gradients do not exist for variables ['tf_bert_model/bert/pooler/dense/kernel:0', 'tf_bert_model/bert/pooler/dense/bias:0'] when minimizing the loss. If you're using `model.compile()`, did you forget to provide a `loss`argument?\n",
      "WARNING:tensorflow:Gradients do not exist for variables ['tf_bert_model/bert/pooler/dense/kernel:0', 'tf_bert_model/bert/pooler/dense/bias:0'] when minimizing the loss. If you're using `model.compile()`, did you forget to provide a `loss`argument?\n",
      "1706/1706 [==============================] - 7824s 5s/step - loss: 0.0454 - accuracy: 0.9850 - val_loss: 0.3537 - val_accuracy: 0.9301\n",
      "Epoch 2/10\n",
      "1706/1706 [==============================] - 7700s 5s/step - loss: 0.0400 - accuracy: 0.9863 - val_loss: 0.2936 - val_accuracy: 0.9317\n",
      "Epoch 3/10\n",
      "1706/1706 [==============================] - 7693s 5s/step - loss: 0.0358 - accuracy: 0.9877 - val_loss: 0.3281 - val_accuracy: 0.9340\n",
      "Epoch 4/10\n",
      "1706/1706 [==============================] - 7694s 5s/step - loss: 0.0305 - accuracy: 0.9892 - val_loss: 0.2551 - val_accuracy: 0.9331\n",
      "Epoch 5/10\n",
      "1706/1706 [==============================] - 7717s 5s/step - loss: 0.0322 - accuracy: 0.9891 - val_loss: 0.3140 - val_accuracy: 0.9312\n",
      "Epoch 6/10\n",
      "1706/1706 [==============================] - 7729s 5s/step - loss: 0.0292 - accuracy: 0.9900 - val_loss: 0.3236 - val_accuracy: 0.9324\n",
      "Epoch 7/10\n",
      "1706/1706 [==============================] - 26721s 16s/step - loss: 0.0271 - accuracy: 0.9906 - val_loss: 0.4453 - val_accuracy: 0.9325\n",
      "Epoch 8/10\n",
      "1706/1706 [==============================] - 8311s 5s/step - loss: 0.0261 - accuracy: 0.9914 - val_loss: 0.4116 - val_accuracy: 0.9296\n",
      "Epoch 9/10\n",
      "1706/1706 [==============================] - 8083s 5s/step - loss: 0.0306 - accuracy: 0.9896 - val_loss: 0.3832 - val_accuracy: 0.9288\n",
      "Epoch 10/10\n",
      "1706/1706 [==============================] - 41640s 24s/step - loss: 0.0231 - accuracy: 0.9915 - val_loss: 0.3305 - val_accuracy: 0.9325\n"
     ]
    }
   ],
   "source": [
    "callback = tf.keras.callbacks.EarlyStopping(patience=3)\n",
    "\n",
    "bert_cnn_model = create_bert_cnn_model(bert_model)\n",
    "\n",
    "bert_cnn_history = bert_cnn_model.fit(\n",
    "    [x_train.input_ids, x_train.token_type_ids, x_train.attention_mask],\n",
    "    y_train,\n",
    "    validation_data=([x_test.input_ids, x_test.token_type_ids, x_test.attention_mask], y_test),\n",
    "    batch_size=32,\n",
    "    epochs=10,\n",
    "    callbacks=[callback])"
   ]
  },
  {
   "cell_type": "code",
   "execution_count": 11,
   "metadata": {
    "id": "QiRwKmRBxRNs"
   },
   "outputs": [],
   "source": [
    "def build_rnn_model(rnn_dim, dense_layer_dims, learning_rate, dropout_rate):\n",
    "    input_ids = tf.keras.layers.Input(shape=(max_length,), dtype=tf.int64, name='input_ids_layer')   \n",
    "    token_type_ids = tf.keras.layers.Input(shape=(max_length,), dtype=tf.int64, name='token_type_ids_layer')\n",
    "    attention_mask = tf.keras.layers.Input(shape=(max_length,), dtype=tf.int64, name='attention_mask_layer')\n",
    "\n",
    "    bert_inputs = {'input_ids': input_ids,\n",
    "                   'token_type_ids': token_type_ids,\n",
    "                   'attention_mask': attention_mask}       \n",
    "\n",
    "    bert_out = bert_model(bert_inputs)[0]\n",
    "\n",
    "    # only return the last output from the RNN calculation \n",
    "    rnn_output = tf.keras.layers.LSTM(rnn_dim, return_sequences=False, return_state=False, name='LSTM')\\\n",
    "        (bert_out)\n",
    "    last_hidden_output = rnn_output\n",
    "    \n",
    "    for dense_layer_dim in dense_layer_dims:\n",
    "        last_hidden_output = keras.layers.Dense(dense_layer_dim, activation='relu')(last_hidden_output)\n",
    "        last_hidden_output = keras.layers.Dropout(rate=dropout_rate)(last_hidden_output)\n",
    "    \n",
    "    rnn_prediction = keras.layers.Dense(1, activation='sigmoid')(last_hidden_output)\n",
    "\n",
    "    rnn_model = keras.Model(inputs=[input_ids, token_type_ids, attention_mask], outputs=[rnn_prediction])\n",
    "    rnn_model.compile(optimizer=tf.keras.optimizers.Adam(learning_rate=learning_rate),\n",
    "                      loss='binary_crossentropy',  # From information theory notebooks.\n",
    "                      metrics=['accuracy'])\n",
    "    return rnn_model"
   ]
  },
  {
   "cell_type": "code",
   "execution_count": 18,
   "metadata": {
    "colab": {
     "base_uri": "https://localhost:8080/"
    },
    "id": "ZpqnNfSz0j-W",
    "outputId": "59c8ce2d-9e24-4132-d9ac-f2279e2bed3f"
   },
   "outputs": [
    {
     "name": "stdout",
     "output_type": "stream",
     "text": [
      "Epoch 1/10\n",
      "WARNING:tensorflow:Gradients do not exist for variables ['tf_bert_model/bert/pooler/dense/kernel:0', 'tf_bert_model/bert/pooler/dense/bias:0'] when minimizing the loss. If you're using `model.compile()`, did you forget to provide a `loss`argument?\n",
      "WARNING:tensorflow:Gradients do not exist for variables ['tf_bert_model/bert/pooler/dense/kernel:0', 'tf_bert_model/bert/pooler/dense/bias:0'] when minimizing the loss. If you're using `model.compile()`, did you forget to provide a `loss`argument?\n",
      "1706/1706 [==============================] - 8045s 5s/step - loss: 0.2485 - accuracy: 0.8797 - val_loss: 0.5158 - val_accuracy: 0.9259\n",
      "Epoch 2/10\n",
      "1706/1706 [==============================] - 7928s 5s/step - loss: 0.0688 - accuracy: 0.9787 - val_loss: 0.6272 - val_accuracy: 0.9236\n",
      "Epoch 3/10\n",
      "1706/1706 [==============================] - 23296s 14s/step - loss: 0.0556 - accuracy: 0.9840 - val_loss: 0.4228 - val_accuracy: 0.9298\n",
      "Epoch 4/10\n",
      "1706/1706 [==============================] - 12418s 7s/step - loss: 0.0532 - accuracy: 0.9854 - val_loss: 0.7920 - val_accuracy: 0.9293\n",
      "Epoch 5/10\n",
      "1706/1706 [==============================] - 35509s 21s/step - loss: 0.0475 - accuracy: 0.9872 - val_loss: 0.7256 - val_accuracy: 0.9277\n",
      "Epoch 6/10\n",
      "1706/1706 [==============================] - 10061s 6s/step - loss: 0.0440 - accuracy: 0.9879 - val_loss: 0.6599 - val_accuracy: 0.9256\n"
     ]
    }
   ],
   "source": [
    "callback = tf.keras.callbacks.EarlyStopping(patience=3)\n",
    "\n",
    "rnn_model = build_rnn_model(rnn_dim=100,\n",
    "                            dense_layer_dims=[100, 100, 50, 25],\n",
    "                            learning_rate=0.00005,\n",
    "                            dropout_rate=0.5)\n",
    "\n",
    "rnn_history = rnn_model.fit([x_train.input_ids, x_train.token_type_ids, x_train.attention_mask],\n",
    "                            y_train,\n",
    "                            validation_data=([x_test.input_ids, x_test.token_type_ids, x_test.attention_mask], y_test),\n",
    "                            batch_size=32,\n",
    "                            epochs=10,\n",
    "                            callbacks=[callback]\n",
    "                            )"
   ]
  },
  {
   "cell_type": "code",
   "execution_count": 22,
   "metadata": {
    "id": "wwovUHPGbl0u"
   },
   "outputs": [
    {
     "data": {
      "image/png": "[encoded data removed]",
      "text/plain": [
       "<Figure size 1332x756 with 4 Axes>"
      ]
     },
     "metadata": {
      "needs_background": "light"
     },
     "output_type": "display_data"
    }
   ],
   "source": [
    "fig, axs = plt.subplots(2, 2)\n",
    "fig.subplots_adjust(left=0.2, wspace=0.6)\n",
    "make_plot(axs, 6,\n",
    "          bert_cnn_history,\n",
    "          rnn_history, \n",
    "          model_1_name='bert_cnn',\n",
    "          model_2_name='bert_rnn')\n",
    "\n",
    "fig.align_ylabels(axs[:, 1])\n",
    "fig.set_size_inches(18.5, 10.5)\n",
    "plt.show()"
   ]
  }
 ],
 "metadata": {
  "accelerator": "GPU",
  "colab": {
   "provenance": []
  },
  "gpuClass": "standard",
  "kernelspec": {
   "display_name": "Python 3 (ipykernel)",
   "language": "python",
   "name": "python3"
  },
  "language_info": {
   "codemirror_mode": {
    "name": "ipython",
    "version": 3
   },
   "file_extension": ".py",
   "mimetype": "text/x-python",
   "name": "python",
   "nbconvert_exporter": "python",
   "pygments_lexer": "ipython3",
   "version": "3.10.5"
  },
  "widgets": {
   "application/vnd.jupyter.widget-state+json": {
    "0c2d618a2e3b47d38ba90514539e7fc9": {
     "model_module": "@jupyter-widgets/base",
     "model_module_version": "1.2.0",
     "model_name": "LayoutModel",
     "state": {
      "_model_module": "@jupyter-widgets/base",
      "_model_module_version": "1.2.0",
      "_model_name": "LayoutModel",
      "_view_count": null,
      "_view_module": "@jupyter-widgets/base",
      "_view_module_version": "1.2.0",
      "_view_name": "LayoutView",
      "align_content": null,
      "align_items": null,
      "align_self": null,
      "border": null,
      "bottom": null,
      "display": null,
      "flex": null,
      "flex_flow": null,
      "grid_area": null,
      "grid_auto_columns": null,
      "grid_auto_flow": null,
      "grid_auto_rows": null,
      "grid_column": null,
      "grid_gap": null,
      "grid_row": null,
      "grid_template_areas": null,
      "grid_template_columns": null,
      "grid_template_rows": null,
      "height": null,
      "justify_content": null,
      "justify_items": null,
      "left": null,
      "margin": null,
      "max_height": null,
      "max_width": null,
      "min_height": null,
      "min_width": null,
      "object_fit": null,
      "object_position": null,
      "order": null,
      "overflow": null,
      "overflow_x": null,
      "overflow_y": null,
      "padding": null,
      "right": null,
      "top": null,
      "visibility": null,
      "width": null
     }
    },
    "114605cd931a4d3ca4f064dacc8ca5d1": {
     "model_module": "@jupyter-widgets/controls",
     "model_module_version": "1.5.0",
     "model_name": "HTMLModel",
     "state": {
      "_dom_classes": [],
      "_model_module": "@jupyter-widgets/controls",
      "_model_module_version": "1.5.0",
      "_model_name": "HTMLModel",
      "_view_count": null,
      "_view_module": "@jupyter-widgets/controls",
      "_view_module_version": "1.5.0",
      "_view_name": "HTMLView",
      "description": "",
      "description_tooltip": null,
      "layout": "IPY_MODEL_e759b302a77e4e78a46fe927da4bc7cb",
      "placeholder": "​",
      "style": "IPY_MODEL_da646798baa143fe87c1281de79097fe",
      "value": "Downloading: 100%"
     }
    },
    "12ca7a6b3cf74884ab4f2a0110859050": {
     "model_module": "@jupyter-widgets/base",
     "model_module_version": "1.2.0",
     "model_name": "LayoutModel",
     "state": {
      "_model_module": "@jupyter-widgets/base",
      "_model_module_version": "1.2.0",
      "_model_name": "LayoutModel",
      "_view_count": null,
      "_view_module": "@jupyter-widgets/base",
      "_view_module_version": "1.2.0",
      "_view_name": "LayoutView",
      "align_content": null,
      "align_items": null,
      "align_self": null,
      "border": null,
      "bottom": null,
      "display": null,
      "flex": null,
      "flex_flow": null,
      "grid_area": null,
      "grid_auto_columns": null,
      "grid_auto_flow": null,
      "grid_auto_rows": null,
      "grid_column": null,
      "grid_gap": null,
      "grid_row": null,
      "grid_template_areas": null,
      "grid_template_columns": null,
      "grid_template_rows": null,
      "height": null,
      "justify_content": null,
      "justify_items": null,
      "left": null,
      "margin": null,
      "max_height": null,
      "max_width": null,
      "min_height": null,
      "min_width": null,
      "object_fit": null,
      "object_position": null,
      "order": null,
      "overflow": null,
      "overflow_x": null,
      "overflow_y": null,
      "padding": null,
      "right": null,
      "top": null,
      "visibility": null,
      "width": null
     }
    },
    "1d393c6ba79943a9ab1025b82b597f3f": {
     "model_module": "@jupyter-widgets/controls",
     "model_module_version": "1.5.0",
     "model_name": "ProgressStyleModel",
     "state": {
      "_model_module": "@jupyter-widgets/controls",
      "_model_module_version": "1.5.0",
      "_model_name": "ProgressStyleModel",
      "_view_count": null,
      "_view_module": "@jupyter-widgets/base",
      "_view_module_version": "1.2.0",
      "_view_name": "StyleView",
      "bar_color": null,
      "description_width": ""
     }
    },
    "2ecba98fe82b44ddafb9817ab03d8a59": {
     "model_module": "@jupyter-widgets/controls",
     "model_module_version": "1.5.0",
     "model_name": "DescriptionStyleModel",
     "state": {
      "_model_module": "@jupyter-widgets/controls",
      "_model_module_version": "1.5.0",
      "_model_name": "DescriptionStyleModel",
      "_view_count": null,
      "_view_module": "@jupyter-widgets/base",
      "_view_module_version": "1.2.0",
      "_view_name": "StyleView",
      "description_width": ""
     }
    },
    "2fc2df23676345aa8d3304bd11bb60a8": {
     "model_module": "@jupyter-widgets/controls",
     "model_module_version": "1.5.0",
     "model_name": "ProgressStyleModel",
     "state": {
      "_model_module": "@jupyter-widgets/controls",
      "_model_module_version": "1.5.0",
      "_model_name": "ProgressStyleModel",
      "_view_count": null,
      "_view_module": "@jupyter-widgets/base",
      "_view_module_version": "1.2.0",
      "_view_name": "StyleView",
      "bar_color": null,
      "description_width": ""
     }
    },
    "301258e9bd634753871fc66b323f206e": {
     "model_module": "@jupyter-widgets/controls",
     "model_module_version": "1.5.0",
     "model_name": "HBoxModel",
     "state": {
      "_dom_classes": [],
      "_model_module": "@jupyter-widgets/controls",
      "_model_module_version": "1.5.0",
      "_model_name": "HBoxModel",
      "_view_count": null,
      "_view_module": "@jupyter-widgets/controls",
      "_view_module_version": "1.5.0",
      "_view_name": "HBoxView",
      "box_style": "",
      "children": [
       "IPY_MODEL_d1106fc8d99f48d89005d7003932d9c0",
       "IPY_MODEL_729c54a826cf48cb9c6250e92573ad77",
       "IPY_MODEL_92d5c5d17bae43d5b7d33905f8522e69"
      ],
      "layout": "IPY_MODEL_f5f4012a9e4543be9207027362b56652"
     }
    },
    "37a752480cb74eeb8482fc96028659f6": {
     "model_module": "@jupyter-widgets/controls",
     "model_module_version": "1.5.0",
     "model_name": "HBoxModel",
     "state": {
      "_dom_classes": [],
      "_model_module": "@jupyter-widgets/controls",
      "_model_module_version": "1.5.0",
      "_model_name": "HBoxModel",
      "_view_count": null,
      "_view_module": "@jupyter-widgets/controls",
      "_view_module_version": "1.5.0",
      "_view_name": "HBoxView",
      "box_style": "",
      "children": [
       "IPY_MODEL_5b2de1126e3e448ab32dc63b3b974fee",
       "IPY_MODEL_3c3f9ed27ffe4da793abdc3d10672684",
       "IPY_MODEL_a1a3afac1ea74d1aadfe46021dc6b648"
      ],
      "layout": "IPY_MODEL_0c2d618a2e3b47d38ba90514539e7fc9"
     }
    },
    "3c3f9ed27ffe4da793abdc3d10672684": {
     "model_module": "@jupyter-widgets/controls",
     "model_module_version": "1.5.0",
     "model_name": "FloatProgressModel",
     "state": {
      "_dom_classes": [],
      "_model_module": "@jupyter-widgets/controls",
      "_model_module_version": "1.5.0",
      "_model_name": "FloatProgressModel",
      "_view_count": null,
      "_view_module": "@jupyter-widgets/controls",
      "_view_module_version": "1.5.0",
      "_view_name": "ProgressView",
      "bar_style": "success",
      "description": "",
      "description_tooltip": null,
      "layout": "IPY_MODEL_612a5f9931114cc4a4f5e5f2cd5d0354",
      "max": 526681800,
      "min": 0,
      "orientation": "horizontal",
      "style": "IPY_MODEL_2fc2df23676345aa8d3304bd11bb60a8",
      "value": 526681800
     }
    },
    "4aede27b638f4eb08dc1436a2d02c5b5": {
     "model_module": "@jupyter-widgets/base",
     "model_module_version": "1.2.0",
     "model_name": "LayoutModel",
     "state": {
      "_model_module": "@jupyter-widgets/base",
      "_model_module_version": "1.2.0",
      "_model_name": "LayoutModel",
      "_view_count": null,
      "_view_module": "@jupyter-widgets/base",
      "_view_module_version": "1.2.0",
      "_view_name": "LayoutView",
      "align_content": null,
      "align_items": null,
      "align_self": null,
      "border": null,
      "bottom": null,
      "display": null,
      "flex": null,
      "flex_flow": null,
      "grid_area": null,
      "grid_auto_columns": null,
      "grid_auto_flow": null,
      "grid_auto_rows": null,
      "grid_column": null,
      "grid_gap": null,
      "grid_row": null,
      "grid_template_areas": null,
      "grid_template_columns": null,
      "grid_template_rows": null,
      "height": null,
      "justify_content": null,
      "justify_items": null,
      "left": null,
      "margin": null,
      "max_height": null,
      "max_width": null,
      "min_height": null,
      "min_width": null,
      "object_fit": null,
      "object_position": null,
      "order": null,
      "overflow": null,
      "overflow_x": null,
      "overflow_y": null,
      "padding": null,
      "right": null,
      "top": null,
      "visibility": null,
      "width": null
     }
    },
    "565804debc364e54a451e6b0c076b621": {
     "model_module": "@jupyter-widgets/base",
     "model_module_version": "1.2.0",
     "model_name": "LayoutModel",
     "state": {
      "_model_module": "@jupyter-widgets/base",
      "_model_module_version": "1.2.0",
      "_model_name": "LayoutModel",
      "_view_count": null,
      "_view_module": "@jupyter-widgets/base",
      "_view_module_version": "1.2.0",
      "_view_name": "LayoutView",
      "align_content": null,
      "align_items": null,
      "align_self": null,
      "border": null,
      "bottom": null,
      "display": null,
      "flex": null,
      "flex_flow": null,
      "grid_area": null,
      "grid_auto_columns": null,
      "grid_auto_flow": null,
      "grid_auto_rows": null,
      "grid_column": null,
      "grid_gap": null,
      "grid_row": null,
      "grid_template_areas": null,
      "grid_template_columns": null,
      "grid_template_rows": null,
      "height": null,
      "justify_content": null,
      "justify_items": null,
      "left": null,
      "margin": null,
      "max_height": null,
      "max_width": null,
      "min_height": null,
      "min_width": null,
      "object_fit": null,
      "object_position": null,
      "order": null,
      "overflow": null,
      "overflow_x": null,
      "overflow_y": null,
      "padding": null,
      "right": null,
      "top": null,
      "visibility": null,
      "width": null
     }
    },
    "5b2de1126e3e448ab32dc63b3b974fee": {
     "model_module": "@jupyter-widgets/controls",
     "model_module_version": "1.5.0",
     "model_name": "HTMLModel",
     "state": {
      "_dom_classes": [],
      "_model_module": "@jupyter-widgets/controls",
      "_model_module_version": "1.5.0",
      "_model_name": "HTMLModel",
      "_view_count": null,
      "_view_module": "@jupyter-widgets/controls",
      "_view_module_version": "1.5.0",
      "_view_name": "HTMLView",
      "description": "",
      "description_tooltip": null,
      "layout": "IPY_MODEL_565804debc364e54a451e6b0c076b621",
      "placeholder": "​",
      "style": "IPY_MODEL_b80ff793bd424f10abda7c062f311a72",
      "value": "Downloading: 100%"
     }
    },
    "5c9fcfe100e448aa8dc1ee1b14d815ca": {
     "model_module": "@jupyter-widgets/base",
     "model_module_version": "1.2.0",
     "model_name": "LayoutModel",
     "state": {
      "_model_module": "@jupyter-widgets/base",
      "_model_module_version": "1.2.0",
      "_model_name": "LayoutModel",
      "_view_count": null,
      "_view_module": "@jupyter-widgets/base",
      "_view_module_version": "1.2.0",
      "_view_name": "LayoutView",
      "align_content": null,
      "align_items": null,
      "align_self": null,
      "border": null,
      "bottom": null,
      "display": null,
      "flex": null,
      "flex_flow": null,
      "grid_area": null,
      "grid_auto_columns": null,
      "grid_auto_flow": null,
      "grid_auto_rows": null,
      "grid_column": null,
      "grid_gap": null,
      "grid_row": null,
      "grid_template_areas": null,
      "grid_template_columns": null,
      "grid_template_rows": null,
      "height": null,
      "justify_content": null,
      "justify_items": null,
      "left": null,
      "margin": null,
      "max_height": null,
      "max_width": null,
      "min_height": null,
      "min_width": null,
      "object_fit": null,
      "object_position": null,
      "order": null,
      "overflow": null,
      "overflow_x": null,
      "overflow_y": null,
      "padding": null,
      "right": null,
      "top": null,
      "visibility": null,
      "width": null
     }
    },
    "5e5c9a3667624119bf05c32c27419ed4": {
     "model_module": "@jupyter-widgets/base",
     "model_module_version": "1.2.0",
     "model_name": "LayoutModel",
     "state": {
      "_model_module": "@jupyter-widgets/base",
      "_model_module_version": "1.2.0",
      "_model_name": "LayoutModel",
      "_view_count": null,
      "_view_module": "@jupyter-widgets/base",
      "_view_module_version": "1.2.0",
      "_view_name": "LayoutView",
      "align_content": null,
      "align_items": null,
      "align_self": null,
      "border": null,
      "bottom": null,
      "display": null,
      "flex": null,
      "flex_flow": null,
      "grid_area": null,
      "grid_auto_columns": null,
      "grid_auto_flow": null,
      "grid_auto_rows": null,
      "grid_column": null,
      "grid_gap": null,
      "grid_row": null,
      "grid_template_areas": null,
      "grid_template_columns": null,
      "grid_template_rows": null,
      "height": null,
      "justify_content": null,
      "justify_items": null,
      "left": null,
      "margin": null,
      "max_height": null,
      "max_width": null,
      "min_height": null,
      "min_width": null,
      "object_fit": null,
      "object_position": null,
      "order": null,
      "overflow": null,
      "overflow_x": null,
      "overflow_y": null,
      "padding": null,
      "right": null,
      "top": null,
      "visibility": null,
      "width": null
     }
    },
    "5f65f226f00b429eb7db06d01fae397e": {
     "model_module": "@jupyter-widgets/controls",
     "model_module_version": "1.5.0",
     "model_name": "HBoxModel",
     "state": {
      "_dom_classes": [],
      "_model_module": "@jupyter-widgets/controls",
      "_model_module_version": "1.5.0",
      "_model_name": "HBoxModel",
      "_view_count": null,
      "_view_module": "@jupyter-widgets/controls",
      "_view_module_version": "1.5.0",
      "_view_name": "HBoxView",
      "box_style": "",
      "children": [
       "IPY_MODEL_c94ed98e45b849e28f12356e749aa8bf",
       "IPY_MODEL_cce6afcd143246e981e7b2bafae67b28",
       "IPY_MODEL_b73bb55879ac43be9502cbcefa5d8966"
      ],
      "layout": "IPY_MODEL_b14963ce27b3447c930610645a8f0d7c"
     }
    },
    "612a5f9931114cc4a4f5e5f2cd5d0354": {
     "model_module": "@jupyter-widgets/base",
     "model_module_version": "1.2.0",
     "model_name": "LayoutModel",
     "state": {
      "_model_module": "@jupyter-widgets/base",
      "_model_module_version": "1.2.0",
      "_model_name": "LayoutModel",
      "_view_count": null,
      "_view_module": "@jupyter-widgets/base",
      "_view_module_version": "1.2.0",
      "_view_name": "LayoutView",
      "align_content": null,
      "align_items": null,
      "align_self": null,
      "border": null,
      "bottom": null,
      "display": null,
      "flex": null,
      "flex_flow": null,
      "grid_area": null,
      "grid_auto_columns": null,
      "grid_auto_flow": null,
      "grid_auto_rows": null,
      "grid_column": null,
      "grid_gap": null,
      "grid_row": null,
      "grid_template_areas": null,
      "grid_template_columns": null,
      "grid_template_rows": null,
      "height": null,
      "justify_content": null,
      "justify_items": null,
      "left": null,
      "margin": null,
      "max_height": null,
      "max_width": null,
      "min_height": null,
      "min_width": null,
      "object_fit": null,
      "object_position": null,
      "order": null,
      "overflow": null,
      "overflow_x": null,
      "overflow_y": null,
      "padding": null,
      "right": null,
      "top": null,
      "visibility": null,
      "width": null
     }
    },
    "62e0e3cdc5d44be0a00f0f3fcd545773": {
     "model_module": "@jupyter-widgets/controls",
     "model_module_version": "1.5.0",
     "model_name": "DescriptionStyleModel",
     "state": {
      "_model_module": "@jupyter-widgets/controls",
      "_model_module_version": "1.5.0",
      "_model_name": "DescriptionStyleModel",
      "_view_count": null,
      "_view_module": "@jupyter-widgets/base",
      "_view_module_version": "1.2.0",
      "_view_name": "StyleView",
      "description_width": ""
     }
    },
    "66072c104271493086c98595b71d2a54": {
     "model_module": "@jupyter-widgets/controls",
     "model_module_version": "1.5.0",
     "model_name": "FloatProgressModel",
     "state": {
      "_dom_classes": [],
      "_model_module": "@jupyter-widgets/controls",
      "_model_module_version": "1.5.0",
      "_model_name": "FloatProgressModel",
      "_view_count": null,
      "_view_module": "@jupyter-widgets/controls",
      "_view_module_version": "1.5.0",
      "_view_name": "ProgressView",
      "bar_style": "success",
      "description": "",
      "description_tooltip": null,
      "layout": "IPY_MODEL_12ca7a6b3cf74884ab4f2a0110859050",
      "max": 526681800,
      "min": 0,
      "orientation": "horizontal",
      "style": "IPY_MODEL_1d393c6ba79943a9ab1025b82b597f3f",
      "value": 526681800
     }
    },
    "6f796c6248b14eab89c5bc77be153f83": {
     "model_module": "@jupyter-widgets/controls",
     "model_module_version": "1.5.0",
     "model_name": "HBoxModel",
     "state": {
      "_dom_classes": [],
      "_model_module": "@jupyter-widgets/controls",
      "_model_module_version": "1.5.0",
      "_model_name": "HBoxModel",
      "_view_count": null,
      "_view_module": "@jupyter-widgets/controls",
      "_view_module_version": "1.5.0",
      "_view_name": "HBoxView",
      "box_style": "",
      "children": [
       "IPY_MODEL_114605cd931a4d3ca4f064dacc8ca5d1",
       "IPY_MODEL_66072c104271493086c98595b71d2a54",
       "IPY_MODEL_85aed620b4f644ff896a14afdfc4cbf0"
      ],
      "layout": "IPY_MODEL_85ccbb6df55d4e3d9132cc3d829adf3f"
     }
    },
    "729c54a826cf48cb9c6250e92573ad77": {
     "model_module": "@jupyter-widgets/controls",
     "model_module_version": "1.5.0",
     "model_name": "FloatProgressModel",
     "state": {
      "_dom_classes": [],
      "_model_module": "@jupyter-widgets/controls",
      "_model_module_version": "1.5.0",
      "_model_name": "FloatProgressModel",
      "_view_count": null,
      "_view_module": "@jupyter-widgets/controls",
      "_view_module_version": "1.5.0",
      "_view_name": "ProgressView",
      "bar_style": "success",
      "description": "",
      "description_tooltip": null,
      "layout": "IPY_MODEL_5c9fcfe100e448aa8dc1ee1b14d815ca",
      "max": 570,
      "min": 0,
      "orientation": "horizontal",
      "style": "IPY_MODEL_eb2ae3fbbc5f44ccb14ca7a492ab84a2",
      "value": 570
     }
    },
    "8022ed8a276a49b28b7db0e7cfa08ec8": {
     "model_module": "@jupyter-widgets/controls",
     "model_module_version": "1.5.0",
     "model_name": "DescriptionStyleModel",
     "state": {
      "_model_module": "@jupyter-widgets/controls",
      "_model_module_version": "1.5.0",
      "_model_name": "DescriptionStyleModel",
      "_view_count": null,
      "_view_module": "@jupyter-widgets/base",
      "_view_module_version": "1.2.0",
      "_view_name": "StyleView",
      "description_width": ""
     }
    },
    "84f5bb2a10c444ad8f2e4946362c4c4c": {
     "model_module": "@jupyter-widgets/base",
     "model_module_version": "1.2.0",
     "model_name": "LayoutModel",
     "state": {
      "_model_module": "@jupyter-widgets/base",
      "_model_module_version": "1.2.0",
      "_model_name": "LayoutModel",
      "_view_count": null,
      "_view_module": "@jupyter-widgets/base",
      "_view_module_version": "1.2.0",
      "_view_name": "LayoutView",
      "align_content": null,
      "align_items": null,
      "align_self": null,
      "border": null,
      "bottom": null,
      "display": null,
      "flex": null,
      "flex_flow": null,
      "grid_area": null,
      "grid_auto_columns": null,
      "grid_auto_flow": null,
      "grid_auto_rows": null,
      "grid_column": null,
      "grid_gap": null,
      "grid_row": null,
      "grid_template_areas": null,
      "grid_template_columns": null,
      "grid_template_rows": null,
      "height": null,
      "justify_content": null,
      "justify_items": null,
      "left": null,
      "margin": null,
      "max_height": null,
      "max_width": null,
      "min_height": null,
      "min_width": null,
      "object_fit": null,
      "object_position": null,
      "order": null,
      "overflow": null,
      "overflow_x": null,
      "overflow_y": null,
      "padding": null,
      "right": null,
      "top": null,
      "visibility": null,
      "width": null
     }
    },
    "85aed620b4f644ff896a14afdfc4cbf0": {
     "model_module": "@jupyter-widgets/controls",
     "model_module_version": "1.5.0",
     "model_name": "HTMLModel",
     "state": {
      "_dom_classes": [],
      "_model_module": "@jupyter-widgets/controls",
      "_model_module_version": "1.5.0",
      "_model_name": "HTMLModel",
      "_view_count": null,
      "_view_module": "@jupyter-widgets/controls",
      "_view_module_version": "1.5.0",
      "_view_name": "HTMLView",
      "description": "",
      "description_tooltip": null,
      "layout": "IPY_MODEL_cf4509b8f434492f8112fe391328cf64",
      "placeholder": "​",
      "style": "IPY_MODEL_bb0fb288b56f42f284ac9bfdeb73faed",
      "value": " 527M/527M [00:22&lt;00:00, 16.7MB/s]"
     }
    },
    "85ccbb6df55d4e3d9132cc3d829adf3f": {
     "model_module": "@jupyter-widgets/base",
     "model_module_version": "1.2.0",
     "model_name": "LayoutModel",
     "state": {
      "_model_module": "@jupyter-widgets/base",
      "_model_module_version": "1.2.0",
      "_model_name": "LayoutModel",
      "_view_count": null,
      "_view_module": "@jupyter-widgets/base",
      "_view_module_version": "1.2.0",
      "_view_name": "LayoutView",
      "align_content": null,
      "align_items": null,
      "align_self": null,
      "border": null,
      "bottom": null,
      "display": null,
      "flex": null,
      "flex_flow": null,
      "grid_area": null,
      "grid_auto_columns": null,
      "grid_auto_flow": null,
      "grid_auto_rows": null,
      "grid_column": null,
      "grid_gap": null,
      "grid_row": null,
      "grid_template_areas": null,
      "grid_template_columns": null,
      "grid_template_rows": null,
      "height": null,
      "justify_content": null,
      "justify_items": null,
      "left": null,
      "margin": null,
      "max_height": null,
      "max_width": null,
      "min_height": null,
      "min_width": null,
      "object_fit": null,
      "object_position": null,
      "order": null,
      "overflow": null,
      "overflow_x": null,
      "overflow_y": null,
      "padding": null,
      "right": null,
      "top": null,
      "visibility": null,
      "width": null
     }
    },
    "8d08108cebcd462cab6735f788732763": {
     "model_module": "@jupyter-widgets/controls",
     "model_module_version": "1.5.0",
     "model_name": "HBoxModel",
     "state": {
      "_dom_classes": [],
      "_model_module": "@jupyter-widgets/controls",
      "_model_module_version": "1.5.0",
      "_model_name": "HBoxModel",
      "_view_count": null,
      "_view_module": "@jupyter-widgets/controls",
      "_view_module_version": "1.5.0",
      "_view_name": "HBoxView",
      "box_style": "",
      "children": [
       "IPY_MODEL_d3cc0f56d9cd4edb9defa8c9e502e8e7",
       "IPY_MODEL_d5d3fc29bf944f558600e6849a2bb975",
       "IPY_MODEL_bc6a270c6f5742b78faa91c31c6aa7fe"
      ],
      "layout": "IPY_MODEL_de3461a119ec43bebf99523071e17ce9"
     }
    },
    "92d5c5d17bae43d5b7d33905f8522e69": {
     "model_module": "@jupyter-widgets/controls",
     "model_module_version": "1.5.0",
     "model_name": "HTMLModel",
     "state": {
      "_dom_classes": [],
      "_model_module": "@jupyter-widgets/controls",
      "_model_module_version": "1.5.0",
      "_model_name": "HTMLModel",
      "_view_count": null,
      "_view_module": "@jupyter-widgets/controls",
      "_view_module_version": "1.5.0",
      "_view_name": "HTMLView",
      "description": "",
      "description_tooltip": null,
      "layout": "IPY_MODEL_fa4f9fe219d64564a8d74a0f4e17174c",
      "placeholder": "​",
      "style": "IPY_MODEL_ef612f0efc54450d9739bf48be91cc37",
      "value": " 570/570 [00:00&lt;00:00, 5.12kB/s]"
     }
    },
    "99cd6d975e05431eb77ba320cd90bff1": {
     "model_module": "@jupyter-widgets/base",
     "model_module_version": "1.2.0",
     "model_name": "LayoutModel",
     "state": {
      "_model_module": "@jupyter-widgets/base",
      "_model_module_version": "1.2.0",
      "_model_name": "LayoutModel",
      "_view_count": null,
      "_view_module": "@jupyter-widgets/base",
      "_view_module_version": "1.2.0",
      "_view_name": "LayoutView",
      "align_content": null,
      "align_items": null,
      "align_self": null,
      "border": null,
      "bottom": null,
      "display": null,
      "flex": null,
      "flex_flow": null,
      "grid_area": null,
      "grid_auto_columns": null,
      "grid_auto_flow": null,
      "grid_auto_rows": null,
      "grid_column": null,
      "grid_gap": null,
      "grid_row": null,
      "grid_template_areas": null,
      "grid_template_columns": null,
      "grid_template_rows": null,
      "height": null,
      "justify_content": null,
      "justify_items": null,
      "left": null,
      "margin": null,
      "max_height": null,
      "max_width": null,
      "min_height": null,
      "min_width": null,
      "object_fit": null,
      "object_position": null,
      "order": null,
      "overflow": null,
      "overflow_x": null,
      "overflow_y": null,
      "padding": null,
      "right": null,
      "top": null,
      "visibility": null,
      "width": null
     }
    },
    "9ae78e1aa8e244b4a2c47648a9457c63": {
     "model_module": "@jupyter-widgets/base",
     "model_module_version": "1.2.0",
     "model_name": "LayoutModel",
     "state": {
      "_model_module": "@jupyter-widgets/base",
      "_model_module_version": "1.2.0",
      "_model_name": "LayoutModel",
      "_view_count": null,
      "_view_module": "@jupyter-widgets/base",
      "_view_module_version": "1.2.0",
      "_view_name": "LayoutView",
      "align_content": null,
      "align_items": null,
      "align_self": null,
      "border": null,
      "bottom": null,
      "display": null,
      "flex": null,
      "flex_flow": null,
      "grid_area": null,
      "grid_auto_columns": null,
      "grid_auto_flow": null,
      "grid_auto_rows": null,
      "grid_column": null,
      "grid_gap": null,
      "grid_row": null,
      "grid_template_areas": null,
      "grid_template_columns": null,
      "grid_template_rows": null,
      "height": null,
      "justify_content": null,
      "justify_items": null,
      "left": null,
      "margin": null,
      "max_height": null,
      "max_width": null,
      "min_height": null,
      "min_width": null,
      "object_fit": null,
      "object_position": null,
      "order": null,
      "overflow": null,
      "overflow_x": null,
      "overflow_y": null,
      "padding": null,
      "right": null,
      "top": null,
      "visibility": null,
      "width": null
     }
    },
    "a1a3afac1ea74d1aadfe46021dc6b648": {
     "model_module": "@jupyter-widgets/controls",
     "model_module_version": "1.5.0",
     "model_name": "HTMLModel",
     "state": {
      "_dom_classes": [],
      "_model_module": "@jupyter-widgets/controls",
      "_model_module_version": "1.5.0",
      "_model_name": "HTMLModel",
      "_view_count": null,
      "_view_module": "@jupyter-widgets/controls",
      "_view_module_version": "1.5.0",
      "_view_name": "HTMLView",
      "description": "",
      "description_tooltip": null,
      "layout": "IPY_MODEL_d1efc5f040364fd28944f619dbef8598",
      "placeholder": "​",
      "style": "IPY_MODEL_cfb0f30ae5f648618fa07448e9fcc7cf",
      "value": " 527M/527M [00:46&lt;00:00, 14.8MB/s]"
     }
    },
    "a31adeae72b04abea14663a07a8dfcbe": {
     "model_module": "@jupyter-widgets/base",
     "model_module_version": "1.2.0",
     "model_name": "LayoutModel",
     "state": {
      "_model_module": "@jupyter-widgets/base",
      "_model_module_version": "1.2.0",
      "_model_name": "LayoutModel",
      "_view_count": null,
      "_view_module": "@jupyter-widgets/base",
      "_view_module_version": "1.2.0",
      "_view_name": "LayoutView",
      "align_content": null,
      "align_items": null,
      "align_self": null,
      "border": null,
      "bottom": null,
      "display": null,
      "flex": null,
      "flex_flow": null,
      "grid_area": null,
      "grid_auto_columns": null,
      "grid_auto_flow": null,
      "grid_auto_rows": null,
      "grid_column": null,
      "grid_gap": null,
      "grid_row": null,
      "grid_template_areas": null,
      "grid_template_columns": null,
      "grid_template_rows": null,
      "height": null,
      "justify_content": null,
      "justify_items": null,
      "left": null,
      "margin": null,
      "max_height": null,
      "max_width": null,
      "min_height": null,
      "min_width": null,
      "object_fit": null,
      "object_position": null,
      "order": null,
      "overflow": null,
      "overflow_x": null,
      "overflow_y": null,
      "padding": null,
      "right": null,
      "top": null,
      "visibility": null,
      "width": null
     }
    },
    "a4c305480f0343fbac144c95b1c40aad": {
     "model_module": "@jupyter-widgets/controls",
     "model_module_version": "1.5.0",
     "model_name": "ProgressStyleModel",
     "state": {
      "_model_module": "@jupyter-widgets/controls",
      "_model_module_version": "1.5.0",
      "_model_name": "ProgressStyleModel",
      "_view_count": null,
      "_view_module": "@jupyter-widgets/base",
      "_view_module_version": "1.2.0",
      "_view_name": "StyleView",
      "bar_color": null,
      "description_width": ""
     }
    },
    "b14963ce27b3447c930610645a8f0d7c": {
     "model_module": "@jupyter-widgets/base",
     "model_module_version": "1.2.0",
     "model_name": "LayoutModel",
     "state": {
      "_model_module": "@jupyter-widgets/base",
      "_model_module_version": "1.2.0",
      "_model_name": "LayoutModel",
      "_view_count": null,
      "_view_module": "@jupyter-widgets/base",
      "_view_module_version": "1.2.0",
      "_view_name": "LayoutView",
      "align_content": null,
      "align_items": null,
      "align_self": null,
      "border": null,
      "bottom": null,
      "display": null,
      "flex": null,
      "flex_flow": null,
      "grid_area": null,
      "grid_auto_columns": null,
      "grid_auto_flow": null,
      "grid_auto_rows": null,
      "grid_column": null,
      "grid_gap": null,
      "grid_row": null,
      "grid_template_areas": null,
      "grid_template_columns": null,
      "grid_template_rows": null,
      "height": null,
      "justify_content": null,
      "justify_items": null,
      "left": null,
      "margin": null,
      "max_height": null,
      "max_width": null,
      "min_height": null,
      "min_width": null,
      "object_fit": null,
      "object_position": null,
      "order": null,
      "overflow": null,
      "overflow_x": null,
      "overflow_y": null,
      "padding": null,
      "right": null,
      "top": null,
      "visibility": null,
      "width": null
     }
    },
    "b3ec31d99d2e49d6bc35bf469d0308e6": {
     "model_module": "@jupyter-widgets/controls",
     "model_module_version": "1.5.0",
     "model_name": "ProgressStyleModel",
     "state": {
      "_model_module": "@jupyter-widgets/controls",
      "_model_module_version": "1.5.0",
      "_model_name": "ProgressStyleModel",
      "_view_count": null,
      "_view_module": "@jupyter-widgets/base",
      "_view_module_version": "1.2.0",
      "_view_name": "StyleView",
      "bar_color": null,
      "description_width": ""
     }
    },
    "b73bb55879ac43be9502cbcefa5d8966": {
     "model_module": "@jupyter-widgets/controls",
     "model_module_version": "1.5.0",
     "model_name": "HTMLModel",
     "state": {
      "_dom_classes": [],
      "_model_module": "@jupyter-widgets/controls",
      "_model_module_version": "1.5.0",
      "_model_name": "HTMLModel",
      "_view_count": null,
      "_view_module": "@jupyter-widgets/controls",
      "_view_module_version": "1.5.0",
      "_view_name": "HTMLView",
      "description": "",
      "description_tooltip": null,
      "layout": "IPY_MODEL_5e5c9a3667624119bf05c32c27419ed4",
      "placeholder": "​",
      "style": "IPY_MODEL_ec1b6aef1efc454583e1924baf5c2ac7",
      "value": " 213k/213k [00:00&lt;00:00, 738kB/s]"
     }
    },
    "b80ff793bd424f10abda7c062f311a72": {
     "model_module": "@jupyter-widgets/controls",
     "model_module_version": "1.5.0",
     "model_name": "DescriptionStyleModel",
     "state": {
      "_model_module": "@jupyter-widgets/controls",
      "_model_module_version": "1.5.0",
      "_model_name": "DescriptionStyleModel",
      "_view_count": null,
      "_view_module": "@jupyter-widgets/base",
      "_view_module_version": "1.2.0",
      "_view_name": "StyleView",
      "description_width": ""
     }
    },
    "bb0fb288b56f42f284ac9bfdeb73faed": {
     "model_module": "@jupyter-widgets/controls",
     "model_module_version": "1.5.0",
     "model_name": "DescriptionStyleModel",
     "state": {
      "_model_module": "@jupyter-widgets/controls",
      "_model_module_version": "1.5.0",
      "_model_name": "DescriptionStyleModel",
      "_view_count": null,
      "_view_module": "@jupyter-widgets/base",
      "_view_module_version": "1.2.0",
      "_view_name": "StyleView",
      "description_width": ""
     }
    },
    "bc6a270c6f5742b78faa91c31c6aa7fe": {
     "model_module": "@jupyter-widgets/controls",
     "model_module_version": "1.5.0",
     "model_name": "HTMLModel",
     "state": {
      "_dom_classes": [],
      "_model_module": "@jupyter-widgets/controls",
      "_model_module_version": "1.5.0",
      "_model_name": "HTMLModel",
      "_view_count": null,
      "_view_module": "@jupyter-widgets/controls",
      "_view_module_version": "1.5.0",
      "_view_name": "HTMLView",
      "description": "",
      "description_tooltip": null,
      "layout": "IPY_MODEL_4aede27b638f4eb08dc1436a2d02c5b5",
      "placeholder": "​",
      "style": "IPY_MODEL_62e0e3cdc5d44be0a00f0f3fcd545773",
      "value": " 29.0/29.0 [00:00&lt;00:00, 624B/s]"
     }
    },
    "c94ed98e45b849e28f12356e749aa8bf": {
     "model_module": "@jupyter-widgets/controls",
     "model_module_version": "1.5.0",
     "model_name": "HTMLModel",
     "state": {
      "_dom_classes": [],
      "_model_module": "@jupyter-widgets/controls",
      "_model_module_version": "1.5.0",
      "_model_name": "HTMLModel",
      "_view_count": null,
      "_view_module": "@jupyter-widgets/controls",
      "_view_module_version": "1.5.0",
      "_view_name": "HTMLView",
      "description": "",
      "description_tooltip": null,
      "layout": "IPY_MODEL_99cd6d975e05431eb77ba320cd90bff1",
      "placeholder": "​",
      "style": "IPY_MODEL_2ecba98fe82b44ddafb9817ab03d8a59",
      "value": "Downloading: 100%"
     }
    },
    "cce6afcd143246e981e7b2bafae67b28": {
     "model_module": "@jupyter-widgets/controls",
     "model_module_version": "1.5.0",
     "model_name": "FloatProgressModel",
     "state": {
      "_dom_classes": [],
      "_model_module": "@jupyter-widgets/controls",
      "_model_module_version": "1.5.0",
      "_model_name": "FloatProgressModel",
      "_view_count": null,
      "_view_module": "@jupyter-widgets/controls",
      "_view_module_version": "1.5.0",
      "_view_name": "ProgressView",
      "bar_style": "success",
      "description": "",
      "description_tooltip": null,
      "layout": "IPY_MODEL_a31adeae72b04abea14663a07a8dfcbe",
      "max": 213450,
      "min": 0,
      "orientation": "horizontal",
      "style": "IPY_MODEL_a4c305480f0343fbac144c95b1c40aad",
      "value": 213450
     }
    },
    "cf4509b8f434492f8112fe391328cf64": {
     "model_module": "@jupyter-widgets/base",
     "model_module_version": "1.2.0",
     "model_name": "LayoutModel",
     "state": {
      "_model_module": "@jupyter-widgets/base",
      "_model_module_version": "1.2.0",
      "_model_name": "LayoutModel",
      "_view_count": null,
      "_view_module": "@jupyter-widgets/base",
      "_view_module_version": "1.2.0",
      "_view_name": "LayoutView",
      "align_content": null,
      "align_items": null,
      "align_self": null,
      "border": null,
      "bottom": null,
      "display": null,
      "flex": null,
      "flex_flow": null,
      "grid_area": null,
      "grid_auto_columns": null,
      "grid_auto_flow": null,
      "grid_auto_rows": null,
      "grid_column": null,
      "grid_gap": null,
      "grid_row": null,
      "grid_template_areas": null,
      "grid_template_columns": null,
      "grid_template_rows": null,
      "height": null,
      "justify_content": null,
      "justify_items": null,
      "left": null,
      "margin": null,
      "max_height": null,
      "max_width": null,
      "min_height": null,
      "min_width": null,
      "object_fit": null,
      "object_position": null,
      "order": null,
      "overflow": null,
      "overflow_x": null,
      "overflow_y": null,
      "padding": null,
      "right": null,
      "top": null,
      "visibility": null,
      "width": null
     }
    },
    "cfb0f30ae5f648618fa07448e9fcc7cf": {
     "model_module": "@jupyter-widgets/controls",
     "model_module_version": "1.5.0",
     "model_name": "DescriptionStyleModel",
     "state": {
      "_model_module": "@jupyter-widgets/controls",
      "_model_module_version": "1.5.0",
      "_model_name": "DescriptionStyleModel",
      "_view_count": null,
      "_view_module": "@jupyter-widgets/base",
      "_view_module_version": "1.2.0",
      "_view_name": "StyleView",
      "description_width": ""
     }
    },
    "d1106fc8d99f48d89005d7003932d9c0": {
     "model_module": "@jupyter-widgets/controls",
     "model_module_version": "1.5.0",
     "model_name": "HTMLModel",
     "state": {
      "_dom_classes": [],
      "_model_module": "@jupyter-widgets/controls",
      "_model_module_version": "1.5.0",
      "_model_name": "HTMLModel",
      "_view_count": null,
      "_view_module": "@jupyter-widgets/controls",
      "_view_module_version": "1.5.0",
      "_view_name": "HTMLView",
      "description": "",
      "description_tooltip": null,
      "layout": "IPY_MODEL_de32654a13714c7a944eaa31ae845db1",
      "placeholder": "​",
      "style": "IPY_MODEL_d7b8b4c0dfd1495fa04a61563fece206",
      "value": "Downloading: 100%"
     }
    },
    "d1efc5f040364fd28944f619dbef8598": {
     "model_module": "@jupyter-widgets/base",
     "model_module_version": "1.2.0",
     "model_name": "LayoutModel",
     "state": {
      "_model_module": "@jupyter-widgets/base",
      "_model_module_version": "1.2.0",
      "_model_name": "LayoutModel",
      "_view_count": null,
      "_view_module": "@jupyter-widgets/base",
      "_view_module_version": "1.2.0",
      "_view_name": "LayoutView",
      "align_content": null,
      "align_items": null,
      "align_self": null,
      "border": null,
      "bottom": null,
      "display": null,
      "flex": null,
      "flex_flow": null,
      "grid_area": null,
      "grid_auto_columns": null,
      "grid_auto_flow": null,
      "grid_auto_rows": null,
      "grid_column": null,
      "grid_gap": null,
      "grid_row": null,
      "grid_template_areas": null,
      "grid_template_columns": null,
      "grid_template_rows": null,
      "height": null,
      "justify_content": null,
      "justify_items": null,
      "left": null,
      "margin": null,
      "max_height": null,
      "max_width": null,
      "min_height": null,
      "min_width": null,
      "object_fit": null,
      "object_position": null,
      "order": null,
      "overflow": null,
      "overflow_x": null,
      "overflow_y": null,
      "padding": null,
      "right": null,
      "top": null,
      "visibility": null,
      "width": null
     }
    },
    "d3cc0f56d9cd4edb9defa8c9e502e8e7": {
     "model_module": "@jupyter-widgets/controls",
     "model_module_version": "1.5.0",
     "model_name": "HTMLModel",
     "state": {
      "_dom_classes": [],
      "_model_module": "@jupyter-widgets/controls",
      "_model_module_version": "1.5.0",
      "_model_name": "HTMLModel",
      "_view_count": null,
      "_view_module": "@jupyter-widgets/controls",
      "_view_module_version": "1.5.0",
      "_view_name": "HTMLView",
      "description": "",
      "description_tooltip": null,
      "layout": "IPY_MODEL_84f5bb2a10c444ad8f2e4946362c4c4c",
      "placeholder": "​",
      "style": "IPY_MODEL_8022ed8a276a49b28b7db0e7cfa08ec8",
      "value": "Downloading: 100%"
     }
    },
    "d5d3fc29bf944f558600e6849a2bb975": {
     "model_module": "@jupyter-widgets/controls",
     "model_module_version": "1.5.0",
     "model_name": "FloatProgressModel",
     "state": {
      "_dom_classes": [],
      "_model_module": "@jupyter-widgets/controls",
      "_model_module_version": "1.5.0",
      "_model_name": "FloatProgressModel",
      "_view_count": null,
      "_view_module": "@jupyter-widgets/controls",
      "_view_module_version": "1.5.0",
      "_view_name": "ProgressView",
      "bar_style": "success",
      "description": "",
      "description_tooltip": null,
      "layout": "IPY_MODEL_9ae78e1aa8e244b4a2c47648a9457c63",
      "max": 29,
      "min": 0,
      "orientation": "horizontal",
      "style": "IPY_MODEL_b3ec31d99d2e49d6bc35bf469d0308e6",
      "value": 29
     }
    },
    "d7b8b4c0dfd1495fa04a61563fece206": {
     "model_module": "@jupyter-widgets/controls",
     "model_module_version": "1.5.0",
     "model_name": "DescriptionStyleModel",
     "state": {
      "_model_module": "@jupyter-widgets/controls",
      "_model_module_version": "1.5.0",
      "_model_name": "DescriptionStyleModel",
      "_view_count": null,
      "_view_module": "@jupyter-widgets/base",
      "_view_module_version": "1.2.0",
      "_view_name": "StyleView",
      "description_width": ""
     }
    },
    "da646798baa143fe87c1281de79097fe": {
     "model_module": "@jupyter-widgets/controls",
     "model_module_version": "1.5.0",
     "model_name": "DescriptionStyleModel",
     "state": {
      "_model_module": "@jupyter-widgets/controls",
      "_model_module_version": "1.5.0",
      "_model_name": "DescriptionStyleModel",
      "_view_count": null,
      "_view_module": "@jupyter-widgets/base",
      "_view_module_version": "1.2.0",
      "_view_name": "StyleView",
      "description_width": ""
     }
    },
    "de32654a13714c7a944eaa31ae845db1": {
     "model_module": "@jupyter-widgets/base",
     "model_module_version": "1.2.0",
     "model_name": "LayoutModel",
     "state": {
      "_model_module": "@jupyter-widgets/base",
      "_model_module_version": "1.2.0",
      "_model_name": "LayoutModel",
      "_view_count": null,
      "_view_module": "@jupyter-widgets/base",
      "_view_module_version": "1.2.0",
      "_view_name": "LayoutView",
      "align_content": null,
      "align_items": null,
      "align_self": null,
      "border": null,
      "bottom": null,
      "display": null,
      "flex": null,
      "flex_flow": null,
      "grid_area": null,
      "grid_auto_columns": null,
      "grid_auto_flow": null,
      "grid_auto_rows": null,
      "grid_column": null,
      "grid_gap": null,
      "grid_row": null,
      "grid_template_areas": null,
      "grid_template_columns": null,
      "grid_template_rows": null,
      "height": null,
      "justify_content": null,
      "justify_items": null,
      "left": null,
      "margin": null,
      "max_height": null,
      "max_width": null,
      "min_height": null,
      "min_width": null,
      "object_fit": null,
      "object_position": null,
      "order": null,
      "overflow": null,
      "overflow_x": null,
      "overflow_y": null,
      "padding": null,
      "right": null,
      "top": null,
      "visibility": null,
      "width": null
     }
    },
    "de3461a119ec43bebf99523071e17ce9": {
     "model_module": "@jupyter-widgets/base",
     "model_module_version": "1.2.0",
     "model_name": "LayoutModel",
     "state": {
      "_model_module": "@jupyter-widgets/base",
      "_model_module_version": "1.2.0",
      "_model_name": "LayoutModel",
      "_view_count": null,
      "_view_module": "@jupyter-widgets/base",
      "_view_module_version": "1.2.0",
      "_view_name": "LayoutView",
      "align_content": null,
      "align_items": null,
      "align_self": null,
      "border": null,
      "bottom": null,
      "display": null,
      "flex": null,
      "flex_flow": null,
      "grid_area": null,
      "grid_auto_columns": null,
      "grid_auto_flow": null,
      "grid_auto_rows": null,
      "grid_column": null,
      "grid_gap": null,
      "grid_row": null,
      "grid_template_areas": null,
      "grid_template_columns": null,
      "grid_template_rows": null,
      "height": null,
      "justify_content": null,
      "justify_items": null,
      "left": null,
      "margin": null,
      "max_height": null,
      "max_width": null,
      "min_height": null,
      "min_width": null,
      "object_fit": null,
      "object_position": null,
      "order": null,
      "overflow": null,
      "overflow_x": null,
      "overflow_y": null,
      "padding": null,
      "right": null,
      "top": null,
      "visibility": null,
      "width": null
     }
    },
    "e759b302a77e4e78a46fe927da4bc7cb": {
     "model_module": "@jupyter-widgets/base",
     "model_module_version": "1.2.0",
     "model_name": "LayoutModel",
     "state": {
      "_model_module": "@jupyter-widgets/base",
      "_model_module_version": "1.2.0",
      "_model_name": "LayoutModel",
      "_view_count": null,
      "_view_module": "@jupyter-widgets/base",
      "_view_module_version": "1.2.0",
      "_view_name": "LayoutView",
      "align_content": null,
      "align_items": null,
      "align_self": null,
      "border": null,
      "bottom": null,
      "display": null,
      "flex": null,
      "flex_flow": null,
      "grid_area": null,
      "grid_auto_columns": null,
      "grid_auto_flow": null,
      "grid_auto_rows": null,
      "grid_column": null,
      "grid_gap": null,
      "grid_row": null,
      "grid_template_areas": null,
      "grid_template_columns": null,
      "grid_template_rows": null,
      "height": null,
      "justify_content": null,
      "justify_items": null,
      "left": null,
      "margin": null,
      "max_height": null,
      "max_width": null,
      "min_height": null,
      "min_width": null,
      "object_fit": null,
      "object_position": null,
      "order": null,
      "overflow": null,
      "overflow_x": null,
      "overflow_y": null,
      "padding": null,
      "right": null,
      "top": null,
      "visibility": null,
      "width": null
     }
    },
    "eb2ae3fbbc5f44ccb14ca7a492ab84a2": {
     "model_module": "@jupyter-widgets/controls",
     "model_module_version": "1.5.0",
     "model_name": "ProgressStyleModel",
     "state": {
      "_model_module": "@jupyter-widgets/controls",
      "_model_module_version": "1.5.0",
      "_model_name": "ProgressStyleModel",
      "_view_count": null,
      "_view_module": "@jupyter-widgets/base",
      "_view_module_version": "1.2.0",
      "_view_name": "StyleView",
      "bar_color": null,
      "description_width": ""
     }
    },
    "ec1b6aef1efc454583e1924baf5c2ac7": {
     "model_module": "@jupyter-widgets/controls",
     "model_module_version": "1.5.0",
     "model_name": "DescriptionStyleModel",
     "state": {
      "_model_module": "@jupyter-widgets/controls",
      "_model_module_version": "1.5.0",
      "_model_name": "DescriptionStyleModel",
      "_view_count": null,
      "_view_module": "@jupyter-widgets/base",
      "_view_module_version": "1.2.0",
      "_view_name": "StyleView",
      "description_width": ""
     }
    },
    "ef612f0efc54450d9739bf48be91cc37": {
     "model_module": "@jupyter-widgets/controls",
     "model_module_version": "1.5.0",
     "model_name": "DescriptionStyleModel",
     "state": {
      "_model_module": "@jupyter-widgets/controls",
      "_model_module_version": "1.5.0",
      "_model_name": "DescriptionStyleModel",
      "_view_count": null,
      "_view_module": "@jupyter-widgets/base",
      "_view_module_version": "1.2.0",
      "_view_name": "StyleView",
      "description_width": ""
     }
    },
    "f5f4012a9e4543be9207027362b56652": {
     "model_module": "@jupyter-widgets/base",
     "model_module_version": "1.2.0",
     "model_name": "LayoutModel",
     "state": {
      "_model_module": "@jupyter-widgets/base",
      "_model_module_version": "1.2.0",
      "_model_name": "LayoutModel",
      "_view_count": null,
      "_view_module": "@jupyter-widgets/base",
      "_view_module_version": "1.2.0",
      "_view_name": "LayoutView",
      "align_content": null,
      "align_items": null,
      "align_self": null,
      "border": null,
      "bottom": null,
      "display": null,
      "flex": null,
      "flex_flow": null,
      "grid_area": null,
      "grid_auto_columns": null,
      "grid_auto_flow": null,
      "grid_auto_rows": null,
      "grid_column": null,
      "grid_gap": null,
      "grid_row": null,
      "grid_template_areas": null,
      "grid_template_columns": null,
      "grid_template_rows": null,
      "height": null,
      "justify_content": null,
      "justify_items": null,
      "left": null,
      "margin": null,
      "max_height": null,
      "max_width": null,
      "min_height": null,
      "min_width": null,
      "object_fit": null,
      "object_position": null,
      "order": null,
      "overflow": null,
      "overflow_x": null,
      "overflow_y": null,
      "padding": null,
      "right": null,
      "top": null,
      "visibility": null,
      "width": null
     }
    },
    "fa4f9fe219d64564a8d74a0f4e17174c": {
     "model_module": "@jupyter-widgets/base",
     "model_module_version": "1.2.0",
     "model_name": "LayoutModel",
     "state": {
      "_model_module": "@jupyter-widgets/base",
      "_model_module_version": "1.2.0",
      "_model_name": "LayoutModel",
      "_view_count": null,
      "_view_module": "@jupyter-widgets/base",
      "_view_module_version": "1.2.0",
      "_view_name": "LayoutView",
      "align_content": null,
      "align_items": null,
      "align_self": null,
      "border": null,
      "bottom": null,
      "display": null,
      "flex": null,
      "flex_flow": null,
      "grid_area": null,
      "grid_auto_columns": null,
      "grid_auto_flow": null,
      "grid_auto_rows": null,
      "grid_column": null,
      "grid_gap": null,
      "grid_row": null,
      "grid_template_areas": null,
      "grid_template_columns": null,
      "grid_template_rows": null,
      "height": null,
      "justify_content": null,
      "justify_items": null,
      "left": null,
      "margin": null,
      "max_height": null,
      "max_width": null,
      "min_height": null,
      "min_width": null,
      "object_fit": null,
      "object_position": null,
      "order": null,
      "overflow": null,
      "overflow_x": null,
      "overflow_y": null,
      "padding": null,
      "right": null,
      "top": null,
      "visibility": null,
      "width": null
     }
    }
   }
  }
 },
 "nbformat": 4,
 "nbformat_minor": 1
}
